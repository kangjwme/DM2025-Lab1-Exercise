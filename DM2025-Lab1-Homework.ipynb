{
 "cells": [
  {
   "cell_type": "markdown",
   "metadata": {},
   "source": [
    "### Student Information\n",
    "Name:\n",
    "\n",
    "Student ID:\n",
    "\n",
    "GitHub ID:"
   ]
  },
  {
   "cell_type": "markdown",
   "metadata": {},
   "source": [
    "---"
   ]
  },
  {
   "cell_type": "markdown",
   "metadata": {},
   "source": [
    "### Instructions"
   ]
  },
  {
   "cell_type": "markdown",
   "metadata": {},
   "source": [
    "### First Phase Submission"
   ]
  },
  {
   "cell_type": "markdown",
   "metadata": {},
   "source": [
    "1. First: do the **take home** exercises in the [DM2025-Lab1-Master](https://github.com/leoson-wu/DM2025-Lab1-Exercise/blob/main/DM2025-Lab1-Master.ipynb) that considered as **phase 1 (from exercise 1 to exercise 15)**. You can answer in the master file. __This part is worth 10% of your grade.__\n",
    "\n",
    "\n",
    "2. Second: follow the same process from the [DM2025-Lab1-Master](https://github.com/leoson-wu/DM2025-Lab1-Exercise/blob/main/DM2025-Lab1-Master.ipynb) on **the new dataset** up **until phase 1**. You can skip some exercises if you think some steps are not necessary. However main exercises should be completed. You don't need to explain all details as we did (some **minimal comments** explaining your code are useful though).  __This part is worth 15% of your grade.__\n",
    "    -  Use [the new dataset](https://github.com/leoson-wu/DM2025-Lab1-Exercise/blob/main/newdataset/Reddit-stock-sentiment.csv). The dataset contains a 16 columns including 'text' and 'label', with the sentiment labels being: 1.0 is positive, 0.0 is neutral and -1.0 is negative. You can simplify the dataset and use only the columns that you think are necessary. \n",
    "    \n",
    "    - You are allowed to use and modify the `helper` functions in the folder of the first lab session (notice they may need modification) or create your own.\n",
    "    - Use this file to complete the homework from the second part. Make sure the code can be run from the beginning till the end and has all the needed output.\n",
    "\n",
    "\n",
    "3. Third: please attempt the following tasks on **the new dataset**. __This part is worth 10% of your grade.__\n",
    "    - Generate meaningful **new data visualizations**. Refer to online resources and the Data Mining textbook for inspiration and ideas. \n",
    "    \n",
    "\n",
    "\n",
    "4. Fourth: It's hard for us to follow if your code is messy, so please **tidy up your notebook** and **add minimal comments where needed**. __This part is worth 5% of your grade.__\n",
    "\n",
    "You can submit your homework following these guidelines: [DM2025-Lab1-announcement](https://github.com/leoson-wu/DM2025-Lab1-Announcement/blob/main/README.md). Make sure to commit and save your changes to your repository __BEFORE the deadline (September 28th 11:59 pm, Sunday)__. "
   ]
  },
  {
   "cell_type": "markdown",
   "metadata": {},
   "source": [
    "### Second Phase Submission "
   ]
  },
  {
   "cell_type": "markdown",
   "metadata": {},
   "source": [
    "**You can keep the answer for phase 1 for easier running and update the phase 2 on the same page.**\n",
    "\n",
    "1. First: Continue doing the **take home** exercises in the [DM2025-Lab1-Master](https://github.com/leoson-wu/DM2025-Lab1-Exercise/blob/main/DM2025-Lab1-Master.ipynb) for **phase 2, starting from Finding frequent patterns**. Use the same master(.ipynb) file. Answer from phase 1 will not be considered at this stage. You can answer in the master file. __This part is worth 10% of your grade.__\n",
    "\n",
    "\n",
    "2. Second: Continue from first phase and do the same process from the [DM2025-Lab1-Master](https://github.com/leoson-wu/DM2025-Lab1-Exercise/blob/main/DM2025-Lab1-Master.ipynb) on **the new dataset** for phase 2, starting from Finding frequent pattern. You can skip some exercises if you think some steps are not necessary. However main exercises should be completed. You don't need to explain all details as we did (some **minimal comments** explaining your code are useful though).  __This part is worth 15% of your grade.__\n",
    "    - Continue using this file to complete the homework from the second part. Make sure the code can be run from the beginning till the end and has all the needed output. Use the same new dataset as in phase 1.\n",
    "    \n",
    "    - You are allowed to use and modify the `helper` functions in the folder of the first lab session (notice they may need modification) or create your own.\n",
    "\n",
    "3. Third: please attempt the following tasks on **the new dataset**. __This part is worth 20% of your grade.__\n",
    "    - Use this file to answer.\n",
    "    - Generate **TF-IDF features** from the tokens of each text. This will generating a document matrix, however, the weights will be computed differently (using the TF-IDF value of each word per document as opposed to the word frequency).  Refer to this Scikit-learn [guide](http://scikit-learn.org/stable/modules/generated/sklearn.feature_extraction.text.TfidfVectorizer.html) .\n",
    "    - Implement a simple **Naive Bayes classifier** that automatically classifies the records into their categories. Use both the TF-IDF features and word frequency features to build two seperate classifiers. Note that for the TF-IDF features you might need to use other type of NB classifier different than the one in the Master Notebook. Comment on the differences and when using augmentation with feature pattern.  Refer to this [article](https://hub.packtpub.com/implementing-3-naive-bayes-classifiers-in-scikit-learn/).\n",
    "\n",
    "\n",
    "4. Fourth: In the lab, we applied each step really quickly just to illustrate how to work with your dataset. There are somethings that are not ideal or the most efficient/meaningful. Each dataset can be handled differently as well. What are those inefficent parts you noticed? How can you improve the Data preprocessing for these specific datasets? __This part is worth 10% of your grade.__\n",
    "\n",
    "\n",
    "5. Fifth: It's hard for us to follow if your code is messy, so please **tidy up your notebook** and **add minimal comments where needed**. __This part is worth 5% of your grade.__\n",
    "\n",
    "\n",
    "You can submit your homework following these guidelines: [DM2025-Lab1-announcement](https://github.com/leoson-wu/DM2025-Lab1-Announcement/blob/main/README.md). Make sure to commit and save your changes to your repository __BEFORE the deadline (October 19th 11:59 pm, Sunday)__. "
   ]
  },
  {
   "cell_type": "markdown",
   "metadata": {},
   "source": [
    "# Phase 1"
   ]
  },
  {
   "cell_type": "code",
   "execution_count": 23,
   "metadata": {},
   "outputs": [
    {
     "name": "stdout",
     "output_type": "stream",
     "text": [
      "✓ All libraries loaded successfully\n"
     ]
    }
   ],
   "source": [
    "### Begin Assignment Here\n",
    "import pandas as pd\n",
    "import numpy as np\n",
    "import nltk\n",
    "from sklearn.feature_extraction.text import CountVectorizer\n",
    "import matplotlib.pyplot as plt\n",
    "import seaborn as sns\n",
    "import plotly.express as px\n",
    "import plotly.graph_objects as go\n",
    "from plotly.subplots import make_subplots\n",
    "import warnings\n",
    "warnings.filterwarnings('ignore')\n",
    "\n",
    "# Download NLTK resources\n",
    "nltk.download('punkt', quiet=True)\n",
    "nltk.download('stopwords', quiet=True)\n",
    "\n",
    "# Set visualization style\n",
    "plt.style.use('seaborn-v0_8-darkgrid')\n",
    "sns.set_palette(\"husl\")\n",
    "\n",
    "print(\"✓ All libraries loaded successfully\")"
   ]
  },
  {
   "cell_type": "markdown",
   "metadata": {},
   "source": [
    "## 1. Data Preparation\n",
    "\n",
    "Load the Reddit stock sentiment dataset\n"
   ]
  },
  {
   "cell_type": "code",
   "execution_count": 24,
   "metadata": {},
   "outputs": [
    {
     "name": "stdout",
     "output_type": "stream",
     "text": [
      "Dataset Shape: (847, 16)\n",
      "\n",
      "Column Names:\n",
      "['type', 'datetime', 'post_id', 'subreddit', 'title', 'author', 'url', 'upvotes', 'downvotes', 'upvote_ratio', 'text', 'subjectivity', 'polarity', 'sentiment', 'entities', 'label']\n",
      "\n",
      "First 5 rows:\n"
     ]
    },
    {
     "data": {
      "text/html": [
       "<div>\n",
       "<style scoped>\n",
       "    .dataframe tbody tr th:only-of-type {\n",
       "        vertical-align: middle;\n",
       "    }\n",
       "\n",
       "    .dataframe tbody tr th {\n",
       "        vertical-align: top;\n",
       "    }\n",
       "\n",
       "    .dataframe thead th {\n",
       "        text-align: right;\n",
       "    }\n",
       "</style>\n",
       "<table border=\"1\" class=\"dataframe\">\n",
       "  <thead>\n",
       "    <tr style=\"text-align: right;\">\n",
       "      <th></th>\n",
       "      <th>type</th>\n",
       "      <th>datetime</th>\n",
       "      <th>post_id</th>\n",
       "      <th>subreddit</th>\n",
       "      <th>title</th>\n",
       "      <th>author</th>\n",
       "      <th>url</th>\n",
       "      <th>upvotes</th>\n",
       "      <th>downvotes</th>\n",
       "      <th>upvote_ratio</th>\n",
       "      <th>text</th>\n",
       "      <th>subjectivity</th>\n",
       "      <th>polarity</th>\n",
       "      <th>sentiment</th>\n",
       "      <th>entities</th>\n",
       "      <th>label</th>\n",
       "    </tr>\n",
       "  </thead>\n",
       "  <tbody>\n",
       "    <tr>\n",
       "      <th>0</th>\n",
       "      <td>comment</td>\n",
       "      <td>2025-04-11 17:29:56</td>\n",
       "      <td>mmli62w</td>\n",
       "      <td>wallstreetbets</td>\n",
       "      <td>Retardation is on the menu boys! WSB is so back</td>\n",
       "      <td>StickyTip420</td>\n",
       "      <td>https://i.redd.it/0yq2ftren8ue1.jpeg</td>\n",
       "      <td>0</td>\n",
       "      <td>NaN</td>\n",
       "      <td>NaN</td>\n",
       "      <td>Calls on retards</td>\n",
       "      <td>1.000000</td>\n",
       "      <td>-0.900000</td>\n",
       "      <td>-1.0</td>\n",
       "      <td>[]</td>\n",
       "      <td>-1.0</td>\n",
       "    </tr>\n",
       "    <tr>\n",
       "      <th>1</th>\n",
       "      <td>comment</td>\n",
       "      <td>2025-04-12 1:12:19</td>\n",
       "      <td>mmnu7v9</td>\n",
       "      <td>wallstreetbets</td>\n",
       "      <td>Retail giant TARGET has now declined for 10 co...</td>\n",
       "      <td>Comfortable-Dog-8437</td>\n",
       "      <td>https://i.redd.it/7tl6puv9waue1.jpeg</td>\n",
       "      <td>-15</td>\n",
       "      <td>NaN</td>\n",
       "      <td>NaN</td>\n",
       "      <td>Stunt as in like why did they even make a big ...</td>\n",
       "      <td>0.177778</td>\n",
       "      <td>0.083333</td>\n",
       "      <td>1.0</td>\n",
       "      <td>['Stunt', 'company', 'deal', 'place']</td>\n",
       "      <td>0.0</td>\n",
       "    </tr>\n",
       "    <tr>\n",
       "      <th>2</th>\n",
       "      <td>comment</td>\n",
       "      <td>2025-04-10 15:09:41</td>\n",
       "      <td>mmeevio</td>\n",
       "      <td>StockMarket</td>\n",
       "      <td>How do you feel about a sitting president maki...</td>\n",
       "      <td>Btankersly66</td>\n",
       "      <td>https://apnews.com/article/trump-truth-social-...</td>\n",
       "      <td>1</td>\n",
       "      <td>NaN</td>\n",
       "      <td>NaN</td>\n",
       "      <td>Seeing lots of red in the ticker.</td>\n",
       "      <td>0.000000</td>\n",
       "      <td>0.000000</td>\n",
       "      <td>0.0</td>\n",
       "      <td>['ticker']</td>\n",
       "      <td>0.0</td>\n",
       "    </tr>\n",
       "    <tr>\n",
       "      <th>3</th>\n",
       "      <td>post</td>\n",
       "      <td>2023-08-30 17:12:55</td>\n",
       "      <td>165kllm</td>\n",
       "      <td>stockstobuytoday</td>\n",
       "      <td>Who knows more? $VMAR</td>\n",
       "      <td>emiljenfn</td>\n",
       "      <td>https://www.reddit.com/r/stockstobuytoday/comm...</td>\n",
       "      <td>30</td>\n",
       "      <td>0.0</td>\n",
       "      <td>0.98</td>\n",
       "      <td>Vision Marine Technologies Inc. is rewriting t...</td>\n",
       "      <td>0.646970</td>\n",
       "      <td>0.216383</td>\n",
       "      <td>1.0</td>\n",
       "      <td>['watercraft', 'skill', 'power', ']', 'feat', ...</td>\n",
       "      <td>1.0</td>\n",
       "    </tr>\n",
       "    <tr>\n",
       "      <th>4</th>\n",
       "      <td>comment</td>\n",
       "      <td>2025-04-11 14:48:05</td>\n",
       "      <td>mmkl6bw</td>\n",
       "      <td>StockMarket</td>\n",
       "      <td>The Trump administration is begging Xi Jinping...</td>\n",
       "      <td>Just-Big6411</td>\n",
       "      <td>https://edition.cnn.com/2025/04/10/politics/tr...</td>\n",
       "      <td>1</td>\n",
       "      <td>NaN</td>\n",
       "      <td>NaN</td>\n",
       "      <td>He didn’t say thank you.</td>\n",
       "      <td>0.000000</td>\n",
       "      <td>0.000000</td>\n",
       "      <td>0.0</td>\n",
       "      <td>[]</td>\n",
       "      <td>-1.0</td>\n",
       "    </tr>\n",
       "  </tbody>\n",
       "</table>\n",
       "</div>"
      ],
      "text/plain": [
       "      type             datetime  post_id         subreddit  \\\n",
       "0  comment  2025-04-11 17:29:56  mmli62w    wallstreetbets   \n",
       "1  comment   2025-04-12 1:12:19  mmnu7v9    wallstreetbets   \n",
       "2  comment  2025-04-10 15:09:41  mmeevio       StockMarket   \n",
       "3     post  2023-08-30 17:12:55  165kllm  stockstobuytoday   \n",
       "4  comment  2025-04-11 14:48:05  mmkl6bw       StockMarket   \n",
       "\n",
       "                                               title                author  \\\n",
       "0    Retardation is on the menu boys! WSB is so back          StickyTip420   \n",
       "1  Retail giant TARGET has now declined for 10 co...  Comfortable-Dog-8437   \n",
       "2  How do you feel about a sitting president maki...          Btankersly66   \n",
       "3                              Who knows more? $VMAR             emiljenfn   \n",
       "4  The Trump administration is begging Xi Jinping...          Just-Big6411   \n",
       "\n",
       "                                                 url  upvotes  downvotes  \\\n",
       "0               https://i.redd.it/0yq2ftren8ue1.jpeg        0        NaN   \n",
       "1               https://i.redd.it/7tl6puv9waue1.jpeg      -15        NaN   \n",
       "2  https://apnews.com/article/trump-truth-social-...        1        NaN   \n",
       "3  https://www.reddit.com/r/stockstobuytoday/comm...       30        0.0   \n",
       "4  https://edition.cnn.com/2025/04/10/politics/tr...        1        NaN   \n",
       "\n",
       "   upvote_ratio                                               text  \\\n",
       "0           NaN                                   Calls on retards   \n",
       "1           NaN  Stunt as in like why did they even make a big ...   \n",
       "2           NaN                  Seeing lots of red in the ticker.   \n",
       "3          0.98  Vision Marine Technologies Inc. is rewriting t...   \n",
       "4           NaN                           He didn’t say thank you.   \n",
       "\n",
       "   subjectivity  polarity  sentiment  \\\n",
       "0      1.000000 -0.900000       -1.0   \n",
       "1      0.177778  0.083333        1.0   \n",
       "2      0.000000  0.000000        0.0   \n",
       "3      0.646970  0.216383        1.0   \n",
       "4      0.000000  0.000000        0.0   \n",
       "\n",
       "                                            entities  label  \n",
       "0                                                 []   -1.0  \n",
       "1              ['Stunt', 'company', 'deal', 'place']    0.0  \n",
       "2                                         ['ticker']    0.0  \n",
       "3  ['watercraft', 'skill', 'power', ']', 'feat', ...    1.0  \n",
       "4                                                 []   -1.0  "
      ]
     },
     "execution_count": 24,
     "metadata": {},
     "output_type": "execute_result"
    }
   ],
   "source": [
    "# Load the Reddit stock sentiment dataset\n",
    "df = pd.read_csv('newdataset/Reddit-stock-sentiment.csv')\n",
    "\n",
    "print(\"Dataset Shape:\", df.shape)\n",
    "print(\"\\nColumn Names:\")\n",
    "print(df.columns.tolist())\n",
    "print(\"\\nFirst 5 rows:\")\n",
    "df.head()\n"
   ]
  },
  {
   "cell_type": "code",
   "execution_count": 25,
   "metadata": {},
   "outputs": [
    {
     "name": "stdout",
     "output_type": "stream",
     "text": [
      "=== Dataset Basic Information ===\n",
      "Total records: 847\n",
      "Total columns: 16\n",
      "\n",
      "Data types:\n",
      "type             object\n",
      "datetime         object\n",
      "post_id          object\n",
      "subreddit        object\n",
      "title            object\n",
      "author           object\n",
      "url              object\n",
      "upvotes           int64\n",
      "downvotes       float64\n",
      "upvote_ratio    float64\n",
      "text             object\n",
      "subjectivity    float64\n",
      "polarity        float64\n",
      "sentiment       float64\n",
      "entities         object\n",
      "label           float64\n",
      "dtype: object\n",
      "\n",
      "Basic statistics:\n"
     ]
    },
    {
     "data": {
      "text/html": [
       "<div>\n",
       "<style scoped>\n",
       "    .dataframe tbody tr th:only-of-type {\n",
       "        vertical-align: middle;\n",
       "    }\n",
       "\n",
       "    .dataframe tbody tr th {\n",
       "        vertical-align: top;\n",
       "    }\n",
       "\n",
       "    .dataframe thead th {\n",
       "        text-align: right;\n",
       "    }\n",
       "</style>\n",
       "<table border=\"1\" class=\"dataframe\">\n",
       "  <thead>\n",
       "    <tr style=\"text-align: right;\">\n",
       "      <th></th>\n",
       "      <th>upvotes</th>\n",
       "      <th>downvotes</th>\n",
       "      <th>upvote_ratio</th>\n",
       "      <th>subjectivity</th>\n",
       "      <th>polarity</th>\n",
       "      <th>sentiment</th>\n",
       "      <th>label</th>\n",
       "    </tr>\n",
       "  </thead>\n",
       "  <tbody>\n",
       "    <tr>\n",
       "      <th>count</th>\n",
       "      <td>847.000000</td>\n",
       "      <td>64.000000</td>\n",
       "      <td>64.000000</td>\n",
       "      <td>847.000000</td>\n",
       "      <td>847.000000</td>\n",
       "      <td>847.000000</td>\n",
       "      <td>847.000000</td>\n",
       "    </tr>\n",
       "    <tr>\n",
       "      <th>mean</th>\n",
       "      <td>12.262102</td>\n",
       "      <td>0.265625</td>\n",
       "      <td>0.981406</td>\n",
       "      <td>0.346768</td>\n",
       "      <td>0.036116</td>\n",
       "      <td>0.144038</td>\n",
       "      <td>-0.243211</td>\n",
       "    </tr>\n",
       "    <tr>\n",
       "      <th>std</th>\n",
       "      <td>142.126337</td>\n",
       "      <td>1.461052</td>\n",
       "      <td>0.068147</td>\n",
       "      <td>0.317261</td>\n",
       "      <td>0.297814</td>\n",
       "      <td>0.767566</td>\n",
       "      <td>0.664801</td>\n",
       "    </tr>\n",
       "    <tr>\n",
       "      <th>min</th>\n",
       "      <td>-74.000000</td>\n",
       "      <td>0.000000</td>\n",
       "      <td>0.500000</td>\n",
       "      <td>0.000000</td>\n",
       "      <td>-1.000000</td>\n",
       "      <td>-1.000000</td>\n",
       "      <td>-1.000000</td>\n",
       "    </tr>\n",
       "    <tr>\n",
       "      <th>25%</th>\n",
       "      <td>1.000000</td>\n",
       "      <td>0.000000</td>\n",
       "      <td>1.000000</td>\n",
       "      <td>0.000000</td>\n",
       "      <td>0.000000</td>\n",
       "      <td>0.000000</td>\n",
       "      <td>-1.000000</td>\n",
       "    </tr>\n",
       "    <tr>\n",
       "      <th>50%</th>\n",
       "      <td>1.000000</td>\n",
       "      <td>0.000000</td>\n",
       "      <td>1.000000</td>\n",
       "      <td>0.366667</td>\n",
       "      <td>0.000000</td>\n",
       "      <td>0.000000</td>\n",
       "      <td>0.000000</td>\n",
       "    </tr>\n",
       "    <tr>\n",
       "      <th>75%</th>\n",
       "      <td>4.000000</td>\n",
       "      <td>0.000000</td>\n",
       "      <td>1.000000</td>\n",
       "      <td>0.577500</td>\n",
       "      <td>0.150000</td>\n",
       "      <td>1.000000</td>\n",
       "      <td>0.000000</td>\n",
       "    </tr>\n",
       "    <tr>\n",
       "      <th>max</th>\n",
       "      <td>3943.000000</td>\n",
       "      <td>11.000000</td>\n",
       "      <td>1.000000</td>\n",
       "      <td>1.000000</td>\n",
       "      <td>1.000000</td>\n",
       "      <td>1.000000</td>\n",
       "      <td>1.000000</td>\n",
       "    </tr>\n",
       "  </tbody>\n",
       "</table>\n",
       "</div>"
      ],
      "text/plain": [
       "           upvotes  downvotes  upvote_ratio  subjectivity    polarity  \\\n",
       "count   847.000000  64.000000     64.000000    847.000000  847.000000   \n",
       "mean     12.262102   0.265625      0.981406      0.346768    0.036116   \n",
       "std     142.126337   1.461052      0.068147      0.317261    0.297814   \n",
       "min     -74.000000   0.000000      0.500000      0.000000   -1.000000   \n",
       "25%       1.000000   0.000000      1.000000      0.000000    0.000000   \n",
       "50%       1.000000   0.000000      1.000000      0.366667    0.000000   \n",
       "75%       4.000000   0.000000      1.000000      0.577500    0.150000   \n",
       "max    3943.000000  11.000000      1.000000      1.000000    1.000000   \n",
       "\n",
       "        sentiment       label  \n",
       "count  847.000000  847.000000  \n",
       "mean     0.144038   -0.243211  \n",
       "std      0.767566    0.664801  \n",
       "min     -1.000000   -1.000000  \n",
       "25%      0.000000   -1.000000  \n",
       "50%      0.000000    0.000000  \n",
       "75%      1.000000    0.000000  \n",
       "max      1.000000    1.000000  "
      ]
     },
     "execution_count": 25,
     "metadata": {},
     "output_type": "execute_result"
    }
   ],
   "source": [
    "# Basic data information\n",
    "print(\"=== Dataset Basic Information ===\")\n",
    "print(f\"Total records: {len(df)}\")\n",
    "print(f\"Total columns: {len(df.columns)}\")\n",
    "print(\"\\nData types:\")\n",
    "print(df.dtypes)\n",
    "print(\"\\nBasic statistics:\")\n",
    "df.describe()\n"
   ]
  },
  {
   "cell_type": "markdown",
   "metadata": {},
   "source": [
    "## 2. Data Transformation\n",
    "\n",
    "Convert and simplify the dataset - keep only necessary columns for analysis\n"
   ]
  },
  {
   "cell_type": "code",
   "execution_count": 26,
   "metadata": {},
   "outputs": [
    {
     "name": "stdout",
     "output_type": "stream",
     "text": [
      "Simplified dataset shape: (847, 7)\n",
      "\n",
      "First 10 rows:\n"
     ]
    },
    {
     "data": {
      "text/html": [
       "<div>\n",
       "<style scoped>\n",
       "    .dataframe tbody tr th:only-of-type {\n",
       "        vertical-align: middle;\n",
       "    }\n",
       "\n",
       "    .dataframe tbody tr th {\n",
       "        vertical-align: top;\n",
       "    }\n",
       "\n",
       "    .dataframe thead th {\n",
       "        text-align: right;\n",
       "    }\n",
       "</style>\n",
       "<table border=\"1\" class=\"dataframe\">\n",
       "  <thead>\n",
       "    <tr style=\"text-align: right;\">\n",
       "      <th></th>\n",
       "      <th>type</th>\n",
       "      <th>subreddit</th>\n",
       "      <th>text</th>\n",
       "      <th>polarity</th>\n",
       "      <th>sentiment</th>\n",
       "      <th>label</th>\n",
       "      <th>sentiment_label</th>\n",
       "    </tr>\n",
       "  </thead>\n",
       "  <tbody>\n",
       "    <tr>\n",
       "      <th>0</th>\n",
       "      <td>comment</td>\n",
       "      <td>wallstreetbets</td>\n",
       "      <td>Calls on retards</td>\n",
       "      <td>-0.900000</td>\n",
       "      <td>-1.0</td>\n",
       "      <td>-1.0</td>\n",
       "      <td>Negative</td>\n",
       "    </tr>\n",
       "    <tr>\n",
       "      <th>1</th>\n",
       "      <td>comment</td>\n",
       "      <td>wallstreetbets</td>\n",
       "      <td>Stunt as in like why did they even make a big ...</td>\n",
       "      <td>0.083333</td>\n",
       "      <td>1.0</td>\n",
       "      <td>0.0</td>\n",
       "      <td>Neutral</td>\n",
       "    </tr>\n",
       "    <tr>\n",
       "      <th>2</th>\n",
       "      <td>comment</td>\n",
       "      <td>StockMarket</td>\n",
       "      <td>Seeing lots of red in the ticker.</td>\n",
       "      <td>0.000000</td>\n",
       "      <td>0.0</td>\n",
       "      <td>0.0</td>\n",
       "      <td>Neutral</td>\n",
       "    </tr>\n",
       "    <tr>\n",
       "      <th>3</th>\n",
       "      <td>post</td>\n",
       "      <td>stockstobuytoday</td>\n",
       "      <td>Vision Marine Technologies Inc. is rewriting t...</td>\n",
       "      <td>0.216383</td>\n",
       "      <td>1.0</td>\n",
       "      <td>1.0</td>\n",
       "      <td>Positive</td>\n",
       "    </tr>\n",
       "    <tr>\n",
       "      <th>4</th>\n",
       "      <td>comment</td>\n",
       "      <td>StockMarket</td>\n",
       "      <td>He didn’t say thank you.</td>\n",
       "      <td>0.000000</td>\n",
       "      <td>0.0</td>\n",
       "      <td>-1.0</td>\n",
       "      <td>Negative</td>\n",
       "    </tr>\n",
       "    <tr>\n",
       "      <th>5</th>\n",
       "      <td>comment</td>\n",
       "      <td>wallstreetbets</td>\n",
       "      <td>Hoping to ejaculate in wet warm puss tonight, ...</td>\n",
       "      <td>0.250000</td>\n",
       "      <td>1.0</td>\n",
       "      <td>0.0</td>\n",
       "      <td>Neutral</td>\n",
       "    </tr>\n",
       "    <tr>\n",
       "      <th>6</th>\n",
       "      <td>comment</td>\n",
       "      <td>stocks</td>\n",
       "      <td>Trump will respond to china increasing their t...</td>\n",
       "      <td>-0.108333</td>\n",
       "      <td>-1.0</td>\n",
       "      <td>-1.0</td>\n",
       "      <td>Negative</td>\n",
       "    </tr>\n",
       "    <tr>\n",
       "      <th>7</th>\n",
       "      <td>comment</td>\n",
       "      <td>wallstreetbets</td>\n",
       "      <td>Confirmed not a trap. Its been like this for p...</td>\n",
       "      <td>0.050000</td>\n",
       "      <td>1.0</td>\n",
       "      <td>0.0</td>\n",
       "      <td>Neutral</td>\n",
       "    </tr>\n",
       "    <tr>\n",
       "      <th>8</th>\n",
       "      <td>comment</td>\n",
       "      <td>stocks</td>\n",
       "      <td>Am I the only one seeing the cup &amp; handle brea...</td>\n",
       "      <td>0.057045</td>\n",
       "      <td>1.0</td>\n",
       "      <td>1.0</td>\n",
       "      <td>Positive</td>\n",
       "    </tr>\n",
       "    <tr>\n",
       "      <th>9</th>\n",
       "      <td>comment</td>\n",
       "      <td>stockstobuytoday</td>\n",
       "      <td>HLGN is $10. Hurry and catch it now before it ...</td>\n",
       "      <td>0.000000</td>\n",
       "      <td>0.0</td>\n",
       "      <td>1.0</td>\n",
       "      <td>Positive</td>\n",
       "    </tr>\n",
       "  </tbody>\n",
       "</table>\n",
       "</div>"
      ],
      "text/plain": [
       "      type         subreddit  \\\n",
       "0  comment    wallstreetbets   \n",
       "1  comment    wallstreetbets   \n",
       "2  comment       StockMarket   \n",
       "3     post  stockstobuytoday   \n",
       "4  comment       StockMarket   \n",
       "5  comment    wallstreetbets   \n",
       "6  comment            stocks   \n",
       "7  comment    wallstreetbets   \n",
       "8  comment            stocks   \n",
       "9  comment  stockstobuytoday   \n",
       "\n",
       "                                                text  polarity  sentiment  \\\n",
       "0                                   Calls on retards -0.900000       -1.0   \n",
       "1  Stunt as in like why did they even make a big ...  0.083333        1.0   \n",
       "2                  Seeing lots of red in the ticker.  0.000000        0.0   \n",
       "3  Vision Marine Technologies Inc. is rewriting t...  0.216383        1.0   \n",
       "4                           He didn’t say thank you.  0.000000        0.0   \n",
       "5  Hoping to ejaculate in wet warm puss tonight, ...  0.250000        1.0   \n",
       "6  Trump will respond to china increasing their t... -0.108333       -1.0   \n",
       "7  Confirmed not a trap. Its been like this for p...  0.050000        1.0   \n",
       "8  Am I the only one seeing the cup & handle brea...  0.057045        1.0   \n",
       "9  HLGN is $10. Hurry and catch it now before it ...  0.000000        0.0   \n",
       "\n",
       "   label sentiment_label  \n",
       "0   -1.0        Negative  \n",
       "1    0.0         Neutral  \n",
       "2    0.0         Neutral  \n",
       "3    1.0        Positive  \n",
       "4   -1.0        Negative  \n",
       "5    0.0         Neutral  \n",
       "6   -1.0        Negative  \n",
       "7    0.0         Neutral  \n",
       "8    1.0        Positive  \n",
       "9    1.0        Positive  "
      ]
     },
     "execution_count": 26,
     "metadata": {},
     "output_type": "execute_result"
    }
   ],
   "source": [
    "# Simplify dataset - select key columns: text, label, type, subreddit\n",
    "X = df[['type', 'subreddit', 'text', 'polarity', 'sentiment', 'label']].copy()\n",
    "\n",
    "# Create sentiment label names for better readability\n",
    "sentiment_map = {-1.0: 'Negative', 0.0: 'Neutral', 1.0: 'Positive'}\n",
    "X['sentiment_label'] = X['label'].map(sentiment_map)\n",
    "\n",
    "print(\"Simplified dataset shape:\", X.shape)\n",
    "print(\"\\nFirst 10 rows:\")\n",
    "X.head(10)\n"
   ]
  },
  {
   "cell_type": "code",
   "execution_count": 27,
   "metadata": {},
   "outputs": [
    {
     "name": "stdout",
     "output_type": "stream",
     "text": [
      "=== Query Examples ===\n",
      "\n",
      "1. First 10 records (text and sentiment_label):\n",
      "                                                text sentiment_label\n",
      "0                                   Calls on retards        Negative\n",
      "1  Stunt as in like why did they even make a big ...         Neutral\n",
      "2                  Seeing lots of red in the ticker.         Neutral\n",
      "3  Vision Marine Technologies Inc. is rewriting t...        Positive\n",
      "4                           He didn’t say thank you.        Negative\n",
      "5  Hoping to ejaculate in wet warm puss tonight, ...         Neutral\n",
      "6  Trump will respond to china increasing their t...        Negative\n",
      "7  Confirmed not a trap. Its been like this for p...         Neutral\n",
      "8  Am I the only one seeing the cup & handle brea...        Positive\n",
      "9  HLGN is $10. Hurry and catch it now before it ...        Positive\n",
      "\n",
      "2. First 5 Negative sentiment records:\n",
      "                                                 text sentiment_label\n",
      "0                                    Calls on retards        Negative\n",
      "4                            He didn’t say thank you.        Negative\n",
      "6   Trump will respond to china increasing their t...        Negative\n",
      "12  Honestly let the economy burn, maybe people wi...        Negative\n",
      "16                                       Jesus Christ        Negative\n",
      "\n",
      "3. Every 5th record (first 5):\n",
      "                                                 text sentiment_label\n",
      "0                                    Calls on retards        Negative\n",
      "5   Hoping to ejaculate in wet warm puss tonight, ...         Neutral\n",
      "10       It's a copy/paste from a Bloomberg terminal.         Neutral\n",
      "15                                 Disgusting tactics         Neutral\n",
      "20                Nooo dont go down its smug bull day        Negative\n"
     ]
    }
   ],
   "source": [
    "# Query examples - familiarizing with the data\n",
    "print(\"=== Query Examples ===\")\n",
    "\n",
    "# Query first 10 records with specific columns\n",
    "print(\"\\n1. First 10 records (text and sentiment_label):\")\n",
    "print(X[:10][[\"text\", \"sentiment_label\"]])\n",
    "\n",
    "# Query records of specific sentiment\n",
    "print(\"\\n2. First 5 Negative sentiment records:\")\n",
    "print(X[X['sentiment_label'] == 'Negative'].head(5)[[\"text\", \"sentiment_label\"]])\n",
    "\n",
    "# Query using iloc (by position)\n",
    "print(\"\\n3. Every 5th record (first 5):\")\n",
    "print(X.iloc[::5].head(5)[[\"text\", \"sentiment_label\"]])\n"
   ]
  },
  {
   "cell_type": "markdown",
   "metadata": {},
   "source": [
    "## 3. Data Mining with Pandas\n",
    "\n",
    "### 3.1 Dealing with Missing Values\n"
   ]
  },
  {
   "cell_type": "code",
   "execution_count": 28,
   "metadata": {},
   "outputs": [
    {
     "name": "stdout",
     "output_type": "stream",
     "text": [
      "=== Missing Values Analysis ===\n",
      "                 Missing Count  Missing Percentage (%)\n",
      "type                         0                     0.0\n",
      "subreddit                    0                     0.0\n",
      "text                         0                     0.0\n",
      "polarity                     0                     0.0\n",
      "sentiment                    0                     0.0\n",
      "label                        0                     0.0\n",
      "sentiment_label              0                     0.0\n",
      "\n",
      "✓ No missing values found - No visualization needed\n",
      "\n",
      "Total missing values: 0\n"
     ]
    }
   ],
   "source": [
    "# Check for missing values\n",
    "print(\"=== Missing Values Analysis ===\")\n",
    "missing_values = X.isnull().sum()\n",
    "missing_percentage = (missing_values / len(X)) * 100\n",
    "\n",
    "missing_df = pd.DataFrame({\n",
    "    'Missing Count': missing_values,\n",
    "    'Missing Percentage (%)': missing_percentage\n",
    "})\n",
    "print(missing_df)\n",
    "\n",
    "# Visualize missing values (only if there are missing values)\n",
    "if missing_percentage[missing_percentage > 0].shape[0] > 0:\n",
    "    plt.figure(figsize=(10, 5))\n",
    "    missing_percentage[missing_percentage > 0].plot(kind='bar', color='coral')\n",
    "    plt.title('Missing Values Percentage', fontsize=14, fontweight='bold')\n",
    "    plt.xlabel('Columns')\n",
    "    plt.ylabel('Percentage (%)')\n",
    "    plt.xticks(rotation=45)\n",
    "    plt.tight_layout()\n",
    "    plt.show()\n",
    "else:\n",
    "    print(\"\\n✓ No missing values found - No visualization needed\")\n",
    "\n",
    "print(f\"\\nTotal missing values: {missing_values.sum()}\")\n"
   ]
  },
  {
   "cell_type": "code",
   "execution_count": 29,
   "metadata": {},
   "outputs": [
    {
     "name": "stdout",
     "output_type": "stream",
     "text": [
      "Before handling missing values: 847\n",
      "After handling missing values: 847\n",
      "\n",
      "Remaining missing values:\n",
      "type               0\n",
      "subreddit          0\n",
      "text               0\n",
      "polarity           0\n",
      "sentiment          0\n",
      "label              0\n",
      "sentiment_label    0\n",
      "dtype: int64\n"
     ]
    }
   ],
   "source": [
    "# Handle missing values - drop rows with missing text (core data for analysis)\n",
    "print(\"Before handling missing values:\", len(X))\n",
    "\n",
    "# Drop rows where text is missing (text is essential for our analysis)\n",
    "X = X.dropna(subset=['text']).copy()\n",
    "\n",
    "print(\"After handling missing values:\", len(X))\n",
    "print(\"\\nRemaining missing values:\")\n",
    "print(X.isnull().sum())\n"
   ]
  },
  {
   "cell_type": "markdown",
   "metadata": {},
   "source": [
    "### 3.2 Dealing with Duplicate Data\n"
   ]
  },
  {
   "cell_type": "code",
   "execution_count": 30,
   "metadata": {},
   "outputs": [
    {
     "name": "stdout",
     "output_type": "stream",
     "text": [
      "=== Duplicate Data Analysis ===\n",
      "Duplicate rows (all columns): 23\n",
      "Duplicate rows (based on text): 23\n",
      "\n",
      "Before removing duplicates: 847\n",
      "After removing duplicates: 824\n",
      "Duplicates removed: 23\n"
     ]
    }
   ],
   "source": [
    "# Check for duplicates\n",
    "print(\"=== Duplicate Data Analysis ===\")\n",
    "print(f\"Duplicate rows (all columns): {X.duplicated().sum()}\")\n",
    "print(f\"Duplicate rows (based on text): {X.duplicated(subset=['text']).sum()}\")\n",
    "\n",
    "# Remove duplicates based on text column\n",
    "before_drop = len(X)\n",
    "X = X.drop_duplicates(subset=['text'], keep='first').copy()\n",
    "after_drop = len(X)\n",
    "\n",
    "print(f\"\\nBefore removing duplicates: {before_drop}\")\n",
    "print(f\"After removing duplicates: {after_drop}\")\n",
    "print(f\"Duplicates removed: {before_drop - after_drop}\")\n"
   ]
  },
  {
   "cell_type": "markdown",
   "metadata": {},
   "source": [
    "## 4. Data Preprocessing\n",
    "\n",
    "### 4.1 Label Distribution Analysis\n"
   ]
  },
  {
   "cell_type": "code",
   "execution_count": 31,
   "metadata": {},
   "outputs": [
    {
     "name": "stdout",
     "output_type": "stream",
     "text": [
      "=== Sentiment Label Distribution ===\n",
      "sentiment_label\n",
      "Neutral     401\n",
      "Negative    315\n",
      "Positive    108\n",
      "Name: count, dtype: int64\n",
      "\n",
      "Proportions:\n",
      "sentiment_label\n",
      "Neutral     0.486650\n",
      "Negative    0.382282\n",
      "Positive    0.131068\n",
      "Name: proportion, dtype: float64\n"
     ]
    },
    {
     "data": {
      "image/png": "[encoded data removed]",
      "text/plain": [
       "<Figure size 1500x500 with 2 Axes>"
      ]
     },
     "metadata": {},
     "output_type": "display_data"
    }
   ],
   "source": [
    "# Analyze sentiment label distribution\n",
    "print(\"=== Sentiment Label Distribution ===\")\n",
    "label_counts = X['sentiment_label'].value_counts()\n",
    "print(label_counts)\n",
    "print(\"\\nProportions:\")\n",
    "print(X['sentiment_label'].value_counts(normalize=True))\n",
    "\n",
    "# Visualize label distribution\n",
    "fig, axes = plt.subplots(1, 2, figsize=(15, 5))\n",
    "\n",
    "# Bar chart\n",
    "X['sentiment_label'].value_counts().plot(kind='bar', ax=axes[0], color=['#FF6B6B', '#4ECDC4', '#45B7D1'])\n",
    "axes[0].set_title('Sentiment Distribution', fontsize=14, fontweight='bold')\n",
    "axes[0].set_xlabel('Sentiment Category')\n",
    "axes[0].set_ylabel('Count')\n",
    "axes[0].tick_params(axis='x', rotation=0)\n",
    "\n",
    "# Pie chart\n",
    "X['sentiment_label'].value_counts().plot(kind='pie', ax=axes[1], autopct='%1.1f%%', \n",
    "                                          colors=['#FF6B6B', '#4ECDC4', '#45B7D1'])\n",
    "axes[1].set_title('Sentiment Proportion', fontsize=14, fontweight='bold')\n",
    "axes[1].set_ylabel('')\n",
    "\n",
    "plt.tight_layout()\n",
    "plt.show()\n"
   ]
  },
  {
   "cell_type": "markdown",
   "metadata": {},
   "source": [
    "### 4.2 Sampling\n",
    "\n",
    "Create stratified sampling to balance the dataset\n"
   ]
  },
  {
   "cell_type": "code",
   "execution_count": 32,
   "metadata": {},
   "outputs": [
    {
     "name": "stdout",
     "output_type": "stream",
     "text": [
      "Minimum samples per category: 108\n",
      "\n",
      "Original dataset size: 824\n",
      "Balanced dataset size: 708\n",
      "\n",
      "Balanced distribution:\n",
      "sentiment_label\n",
      "Negative    300\n",
      "Neutral     300\n",
      "Positive    108\n",
      "Name: count, dtype: int64\n"
     ]
    }
   ],
   "source": [
    "# Stratified sampling to create a balanced dataset\n",
    "from sklearn.model_selection import train_test_split\n",
    "\n",
    "# Sample equal numbers from each sentiment category (take minimum count)\n",
    "min_samples = X['sentiment_label'].value_counts().min()\n",
    "print(f\"Minimum samples per category: {min_samples}\")\n",
    "\n",
    "# Sample from each category\n",
    "X_balanced = X.groupby('sentiment_label').apply(lambda x: x.sample(n=min(len(x), 300), random_state=42)).reset_index(drop=True)\n",
    "\n",
    "print(f\"\\nOriginal dataset size: {len(X)}\")\n",
    "print(f\"Balanced dataset size: {len(X_balanced)}\")\n",
    "print(\"\\nBalanced distribution:\")\n",
    "print(X_balanced['sentiment_label'].value_counts())\n"
   ]
  },
  {
   "cell_type": "markdown",
   "metadata": {},
   "source": [
    "### 4.3 Feature Creation\n",
    "\n",
    "Create new features from text data\n"
   ]
  },
  {
   "cell_type": "code",
   "execution_count": 33,
   "metadata": {},
   "outputs": [
    {
     "name": "stdout",
     "output_type": "stream",
     "text": [
      "New features created:\n",
      "                                                text  text_length  word_count  \\\n",
      "0  China has been preparing for this and this adm...          371          56   \n",
      "1  Do we have a copy of trump’s kindergarten grad...           96          15   \n",
      "2  It was so blatant.  In a normal version of the...          211          37   \n",
      "3  \"hmm. Trade War with China sounds good.\"\\n\\n\" ...          314          54   \n",
      "4               I’m tired. The US is a goddamn joke.           36           8   \n",
      "\n",
      "   avg_word_length  \n",
      "0         5.625000  \n",
      "1         5.466667  \n",
      "2         4.648649  \n",
      "3         4.759259  \n",
      "4         3.625000  \n"
     ]
    },
    {
     "data": {
      "image/png": "[encoded data removed]",
      "text/plain": [
       "<Figure size 1800x500 with 3 Axes>"
      ]
     },
     "metadata": {},
     "output_type": "display_data"
    }
   ],
   "source": [
    "# Create features from text\n",
    "X_balanced['text_length'] = X_balanced['text'].apply(len)\n",
    "X_balanced['word_count'] = X_balanced['text'].apply(lambda x: len(str(x).split()))\n",
    "X_balanced['avg_word_length'] = X_balanced['text'].apply(lambda x: np.mean([len(word) for word in str(x).split()]))\n",
    "\n",
    "print(\"New features created:\")\n",
    "print(X_balanced[['text', 'text_length', 'word_count', 'avg_word_length']].head())\n",
    "\n",
    "# Visualize feature distributions\n",
    "fig, axes = plt.subplots(1, 3, figsize=(18, 5))\n",
    "\n",
    "X_balanced.boxplot(column='text_length', by='sentiment_label', ax=axes[0])\n",
    "axes[0].set_title('Text Length by Sentiment')\n",
    "axes[0].set_xlabel('Sentiment')\n",
    "axes[0].set_ylabel('Text Length')\n",
    "\n",
    "X_balanced.boxplot(column='word_count', by='sentiment_label', ax=axes[1])\n",
    "axes[1].set_title('Word Count by Sentiment')\n",
    "axes[1].set_xlabel('Sentiment')\n",
    "axes[1].set_ylabel('Word Count')\n",
    "\n",
    "X_balanced.boxplot(column='avg_word_length', by='sentiment_label', ax=axes[2])\n",
    "axes[2].set_title('Average Word Length by Sentiment')\n",
    "axes[2].set_xlabel('Sentiment')\n",
    "axes[2].set_ylabel('Avg Word Length')\n",
    "\n",
    "plt.suptitle('')\n",
    "plt.tight_layout()\n",
    "plt.show()\n"
   ]
  },
  {
   "cell_type": "markdown",
   "metadata": {},
   "source": [
    "### 4.4 Text Transformation - Tokenization\n",
    "\n",
    "Transform text into tokens and create document-term matrix\n"
   ]
  },
  {
   "cell_type": "code",
   "execution_count": 34,
   "metadata": {},
   "outputs": [
    {
     "name": "stdout",
     "output_type": "stream",
     "text": [
      "Tokenization example:\n",
      "Original text: China has been preparing for this and this administration lies, is terrible at negotiating, and cann...\n",
      "Tokens: ['china', 'preparing', 'administration', 'lies', 'terrible', 'negotiating', 'trusted', 'so-called', 'deals', 'administration', 'barely', 'treading', 'water', 'likely', 'bring', 'united', 'sates', 'deep', 'recession', 'whilst']...\n"
     ]
    }
   ],
   "source": [
    "# Tokenize text using NLTK\n",
    "from nltk.tokenize import word_tokenize\n",
    "from nltk.corpus import stopwords\n",
    "import string\n",
    "\n",
    "# Get English stopwords\n",
    "stop_words = set(stopwords.words('english'))\n",
    "\n",
    "def tokenize_text(text):\n",
    "    \"\"\"Tokenize and clean text\"\"\"\n",
    "    # Convert to lowercase\n",
    "    text = text.lower()\n",
    "    # Tokenize\n",
    "    tokens = word_tokenize(text)\n",
    "    # Remove punctuation and stopwords\n",
    "    tokens = [word for word in tokens if word not in string.punctuation and word not in stop_words]\n",
    "    return tokens\n",
    "\n",
    "# Apply tokenization\n",
    "X_balanced['tokens'] = X_balanced['text'].apply(tokenize_text)\n",
    "\n",
    "print(\"Tokenization example:\")\n",
    "print(f\"Original text: {X_balanced['text'].iloc[0][:100]}...\")\n",
    "print(f\"Tokens: {X_balanced['tokens'].iloc[0][:20]}...\")\n"
   ]
  },
  {
   "cell_type": "code",
   "execution_count": 35,
   "metadata": {},
   "outputs": [
    {
     "name": "stdout",
     "output_type": "stream",
     "text": [
      "Document-Term Matrix shape: (708, 101)\n",
      "\n",
      "First 5 rows (first 10 terms):\n",
      "   about  after  all  also  an  and  any  are  as  at\n",
      "0      0      0    0     0   1    4    0    0   0   1\n",
      "1      0      0    0     0   0    0    0    0   0   0\n",
      "2      0      0    0     0   0    0    0    0   0   0\n",
      "3      0      0    0     0   0    0    0    0   0   2\n",
      "4      0      0    0     0   0    0    0    0   0   0\n"
     ]
    }
   ],
   "source": [
    "# Create Document-Term Matrix using CountVectorizer\n",
    "from sklearn.feature_extraction.text import CountVectorizer\n",
    "\n",
    "# Initialize CountVectorizer\n",
    "count_vect = CountVectorizer(max_features=100)  # Limit to top 100 words for Phase 1\n",
    "X_counts = count_vect.fit_transform(X_balanced['text'])\n",
    "\n",
    "# Get vocabulary\n",
    "vocabulary = count_vect.get_feature_names_out()\n",
    "\n",
    "# Create DataFrame\n",
    "term_doc_matrix = pd.DataFrame(X_counts.toarray(), columns=vocabulary)\n",
    "term_doc_matrix['sentiment_label'] = X_balanced['sentiment_label'].values\n",
    "\n",
    "print(\"Document-Term Matrix shape:\", term_doc_matrix.shape)\n",
    "print(\"\\nFirst 5 rows (first 10 terms):\")\n",
    "print(term_doc_matrix.iloc[:5, :10])\n"
   ]
  },
  {
   "cell_type": "markdown",
   "metadata": {},
   "source": [
    "## 5. Data Visualization and Exploration\n",
    "\n",
    "Create meaningful visualizations to understand the data better\n"
   ]
  },
  {
   "cell_type": "code",
   "execution_count": 36,
   "metadata": {},
   "outputs": [
    {
     "data": {
      "image/png": "[encoded data removed]",
      "text/plain": [
       "<Figure size 1200x600 with 1 Axes>"
      ]
     },
     "metadata": {},
     "output_type": "display_data"
    }
   ],
   "source": [
    "# Visualization 1: Top 20 most frequent words overall\n",
    "word_freq = term_doc_matrix.drop('sentiment_label', axis=1).sum().sort_values(ascending=False).head(20)\n",
    "\n",
    "plt.figure(figsize=(12, 6))\n",
    "word_freq.plot(kind='barh', color='skyblue')\n",
    "plt.title('Top 20 Most Frequent Words', fontsize=16, fontweight='bold')\n",
    "plt.xlabel('Frequency')\n",
    "plt.ylabel('Words')\n",
    "plt.gca().invert_yaxis()\n",
    "plt.tight_layout()\n",
    "plt.show()\n"
   ]
  },
  {
   "cell_type": "code",
   "execution_count": 37,
   "metadata": {},
   "outputs": [
    {
     "data": {
      "image/png": "[encoded data removed]",
      "text/plain": [
       "<Figure size 2000x500 with 3 Axes>"
      ]
     },
     "metadata": {},
     "output_type": "display_data"
    }
   ],
   "source": [
    "# Visualization 2: Word frequency by sentiment category\n",
    "fig, axes = plt.subplots(1, 3, figsize=(20, 5))\n",
    "\n",
    "for idx, sentiment in enumerate(['Negative', 'Neutral', 'Positive']):\n",
    "    sentiment_data = term_doc_matrix[term_doc_matrix['sentiment_label'] == sentiment].drop('sentiment_label', axis=1)\n",
    "    top_words = sentiment_data.sum().sort_values(ascending=False).head(10)\n",
    "    \n",
    "    top_words.plot(kind='barh', ax=axes[idx], color=['#FF6B6B', '#4ECDC4', '#45B7D1'][idx])\n",
    "    axes[idx].set_title(f'Top 10 Words in {sentiment} Sentiment', fontsize=14, fontweight='bold')\n",
    "    axes[idx].set_xlabel('Frequency')\n",
    "    axes[idx].set_ylabel('Words')\n",
    "    axes[idx].invert_yaxis()\n",
    "\n",
    "plt.tight_layout()\n",
    "plt.show()\n"
   ]
  },
  {
   "cell_type": "code",
   "execution_count": 38,
   "metadata": {},
   "outputs": [
    {
     "data": {
      "image/png": "[encoded data removed]",
      "text/plain": [
       "<Figure size 1400x600 with 1 Axes>"
      ]
     },
     "metadata": {},
     "output_type": "display_data"
    }
   ],
   "source": [
    "# Visualization 3: Subreddit distribution by sentiment\n",
    "subreddit_sentiment = X_balanced.groupby(['subreddit', 'sentiment_label']).size().unstack(fill_value=0)\n",
    "\n",
    "subreddit_sentiment.plot(kind='bar', stacked=True, figsize=(14, 6), \n",
    "                          color=['#FF6B6B', '#4ECDC4', '#45B7D1'])\n",
    "plt.title('Sentiment Distribution by Subreddit', fontsize=16, fontweight='bold')\n",
    "plt.xlabel('Subreddit')\n",
    "plt.ylabel('Count')\n",
    "plt.legend(title='Sentiment', bbox_to_anchor=(1.05, 1), loc='upper left')\n",
    "plt.xticks(rotation=45, ha='right')\n",
    "plt.tight_layout()\n",
    "plt.show()\n"
   ]
  },
  {
   "cell_type": "code",
   "execution_count": 39,
   "metadata": {},
   "outputs": [
    {
     "data": {
      "application/vnd.plotly.v1+json": {
       "config": {
        "plotlyServerURL": "https://plot.ly"
       },
       "data": [
        {
         "alignmentgroup": "True",
         "hovertemplate": "Sentiment=Negative<br>Post Type=%{x}<br>Number of Posts=%{y}<extra></extra>",
         "legendgroup": "Negative",
         "marker": {
          "color": "#FF6B6B",
          "pattern": {
           "shape": ""
          }
         },
         "name": "Negative",
         "offsetgroup": "Negative",
         "orientation": "v",
         "showlegend": true,
         "textposition": "auto",
         "type": "bar",
         "x": [
          "comment",
          "post"
         ],
         "xaxis": "x",
         "y": {
          "bdata": "KwEBAA==",
          "dtype": "i2"
         },
         "yaxis": "y"
        },
        {
         "alignmentgroup": "True",
         "hovertemplate": "Sentiment=Neutral<br>Post Type=%{x}<br>Number of Posts=%{y}<extra></extra>",
         "legendgroup": "Neutral",
         "marker": {
          "color": "#4ECDC4",
          "pattern": {
           "shape": ""
          }
         },
         "name": "Neutral",
         "offsetgroup": "Neutral",
         "orientation": "v",
         "showlegend": true,
         "textposition": "auto",
         "type": "bar",
         "x": [
          "comment",
          "post"
         ],
         "xaxis": "x",
         "y": {
          "bdata": "FQEXAA==",
          "dtype": "i2"
         },
         "yaxis": "y"
        },
        {
         "alignmentgroup": "True",
         "hovertemplate": "Sentiment=Positive<br>Post Type=%{x}<br>Number of Posts=%{y}<extra></extra>",
         "legendgroup": "Positive",
         "marker": {
          "color": "#45B7D1",
          "pattern": {
           "shape": ""
          }
         },
         "name": "Positive",
         "offsetgroup": "Positive",
         "orientation": "v",
         "showlegend": true,
         "textposition": "auto",
         "type": "bar",
         "x": [
          "comment",
          "post"
         ],
         "xaxis": "x",
         "y": {
          "bdata": "ZgY=",
          "dtype": "i1"
         },
         "yaxis": "y"
        }
       ],
       "layout": {
        "barmode": "group",
        "height": 500,
        "legend": {
         "title": {
          "text": "Sentiment"
         },
         "tracegroupgap": 0
        },
        "showlegend": true,
        "template": {
         "data": {
          "bar": [
           {
            "error_x": {
             "color": "#2a3f5f"
            },
            "error_y": {
             "color": "#2a3f5f"
            },
            "marker": {
             "line": {
              "color": "#E5ECF6",
              "width": 0.5
             },
             "pattern": {
              "fillmode": "overlay",
              "size": 10,
              "solidity": 0.2
             }
            },
            "type": "bar"
           }
          ],
          "barpolar": [
           {
            "marker": {
             "line": {
              "color": "#E5ECF6",
              "width": 0.5
             },
             "pattern": {
              "fillmode": "overlay",
              "size": 10,
              "solidity": 0.2
             }
            },
            "type": "barpolar"
           }
          ],
          "carpet": [
           {
            "aaxis": {
             "endlinecolor": "#2a3f5f",
             "gridcolor": "white",
             "linecolor": "white",
             "minorgridcolor": "white",
             "startlinecolor": "#2a3f5f"
            },
            "baxis": {
             "endlinecolor": "#2a3f5f",
             "gridcolor": "white",
             "linecolor": "white",
             "minorgridcolor": "white",
             "startlinecolor": "#2a3f5f"
            },
            "type": "carpet"
           }
          ],
          "choropleth": [
           {
            "colorbar": {
             "outlinewidth": 0,
             "ticks": ""
            },
            "type": "choropleth"
           }
          ],
          "contour": [
           {
            "colorbar": {
             "outlinewidth": 0,
             "ticks": ""
            },
            "colorscale": [
             [
              0,
              "#0d0887"
             ],
             [
              0.1111111111111111,
              "#46039f"
             ],
             [
              0.2222222222222222,
              "#7201a8"
             ],
             [
              0.3333333333333333,
              "#9c179e"
             ],
             [
              0.4444444444444444,
              "#bd3786"
             ],
             [
              0.5555555555555556,
              "#d8576b"
             ],
             [
              0.6666666666666666,
              "#ed7953"
             ],
             [
              0.7777777777777778,
              "#fb9f3a"
             ],
             [
              0.8888888888888888,
              "#fdca26"
             ],
             [
              1,
              "#f0f921"
             ]
            ],
            "type": "contour"
           }
          ],
          "contourcarpet": [
           {
            "colorbar": {
             "outlinewidth": 0,
             "ticks": ""
            },
            "type": "contourcarpet"
           }
          ],
          "heatmap": [
           {
            "colorbar": {
             "outlinewidth": 0,
             "ticks": ""
            },
            "colorscale": [
             [
              0,
              "#0d0887"
             ],
             [
              0.1111111111111111,
              "#46039f"
             ],
             [
              0.2222222222222222,
              "#7201a8"
             ],
             [
              0.3333333333333333,
              "#9c179e"
             ],
             [
              0.4444444444444444,
              "#bd3786"
             ],
             [
              0.5555555555555556,
              "#d8576b"
             ],
             [
              0.6666666666666666,
              "#ed7953"
             ],
             [
              0.7777777777777778,
              "#fb9f3a"
             ],
             [
              0.8888888888888888,
              "#fdca26"
             ],
             [
              1,
              "#f0f921"
             ]
            ],
            "type": "heatmap"
           }
          ],
          "histogram": [
           {
            "marker": {
             "pattern": {
              "fillmode": "overlay",
              "size": 10,
              "solidity": 0.2
             }
            },
            "type": "histogram"
           }
          ],
          "histogram2d": [
           {
            "colorbar": {
             "outlinewidth": 0,
             "ticks": ""
            },
            "colorscale": [
             [
              0,
              "#0d0887"
             ],
             [
              0.1111111111111111,
              "#46039f"
             ],
             [
              0.2222222222222222,
              "#7201a8"
             ],
             [
              0.3333333333333333,
              "#9c179e"
             ],
             [
              0.4444444444444444,
              "#bd3786"
             ],
             [
              0.5555555555555556,
              "#d8576b"
             ],
             [
              0.6666666666666666,
              "#ed7953"
             ],
             [
              0.7777777777777778,
              "#fb9f3a"
             ],
             [
              0.8888888888888888,
              "#fdca26"
             ],
             [
              1,
              "#f0f921"
             ]
            ],
            "type": "histogram2d"
           }
          ],
          "histogram2dcontour": [
           {
            "colorbar": {
             "outlinewidth": 0,
             "ticks": ""
            },
            "colorscale": [
             [
              0,
              "#0d0887"
             ],
             [
              0.1111111111111111,
              "#46039f"
             ],
             [
              0.2222222222222222,
              "#7201a8"
             ],
             [
              0.3333333333333333,
              "#9c179e"
             ],
             [
              0.4444444444444444,
              "#bd3786"
             ],
             [
              0.5555555555555556,
              "#d8576b"
             ],
             [
              0.6666666666666666,
              "#ed7953"
             ],
             [
              0.7777777777777778,
              "#fb9f3a"
             ],
             [
              0.8888888888888888,
              "#fdca26"
             ],
             [
              1,
              "#f0f921"
             ]
            ],
            "type": "histogram2dcontour"
           }
          ],
          "mesh3d": [
           {
            "colorbar": {
             "outlinewidth": 0,
             "ticks": ""
            },
            "type": "mesh3d"
           }
          ],
          "parcoords": [
           {
            "line": {
             "colorbar": {
              "outlinewidth": 0,
              "ticks": ""
             }
            },
            "type": "parcoords"
           }
          ],
          "pie": [
           {
            "automargin": true,
            "type": "pie"
           }
          ],
          "scatter": [
           {
            "fillpattern": {
             "fillmode": "overlay",
             "size": 10,
             "solidity": 0.2
            },
            "type": "scatter"
           }
          ],
          "scatter3d": [
           {
            "line": {
             "colorbar": {
              "outlinewidth": 0,
              "ticks": ""
             }
            },
            "marker": {
             "colorbar": {
              "outlinewidth": 0,
              "ticks": ""
             }
            },
            "type": "scatter3d"
           }
          ],
          "scattercarpet": [
           {
            "marker": {
             "colorbar": {
              "outlinewidth": 0,
              "ticks": ""
             }
            },
            "type": "scattercarpet"
           }
          ],
          "scattergeo": [
           {
            "marker": {
             "colorbar": {
              "outlinewidth": 0,
              "ticks": ""
             }
            },
            "type": "scattergeo"
           }
          ],
          "scattergl": [
           {
            "marker": {
             "colorbar": {
              "outlinewidth": 0,
              "ticks": ""
             }
            },
            "type": "scattergl"
           }
          ],
          "scattermap": [
           {
            "marker": {
             "colorbar": {
              "outlinewidth": 0,
              "ticks": ""
             }
            },
            "type": "scattermap"
           }
          ],
          "scattermapbox": [
           {
            "marker": {
             "colorbar": {
              "outlinewidth": 0,
              "ticks": ""
             }
            },
            "type": "scattermapbox"
           }
          ],
          "scatterpolar": [
           {
            "marker": {
             "colorbar": {
              "outlinewidth": 0,
              "ticks": ""
             }
            },
            "type": "scatterpolar"
           }
          ],
          "scatterpolargl": [
           {
            "marker": {
             "colorbar": {
              "outlinewidth": 0,
              "ticks": ""
             }
            },
            "type": "scatterpolargl"
           }
          ],
          "scatterternary": [
           {
            "marker": {
             "colorbar": {
              "outlinewidth": 0,
              "ticks": ""
             }
            },
            "type": "scatterternary"
           }
          ],
          "surface": [
           {
            "colorbar": {
             "outlinewidth": 0,
             "ticks": ""
            },
            "colorscale": [
             [
              0,
              "#0d0887"
             ],
             [
              0.1111111111111111,
              "#46039f"
             ],
             [
              0.2222222222222222,
              "#7201a8"
             ],
             [
              0.3333333333333333,
              "#9c179e"
             ],
             [
              0.4444444444444444,
              "#bd3786"
             ],
             [
              0.5555555555555556,
              "#d8576b"
             ],
             [
              0.6666666666666666,
              "#ed7953"
             ],
             [
              0.7777777777777778,
              "#fb9f3a"
             ],
             [
              0.8888888888888888,
              "#fdca26"
             ],
             [
              1,
              "#f0f921"
             ]
            ],
            "type": "surface"
           }
          ],
          "table": [
           {
            "cells": {
             "fill": {
              "color": "#EBF0F8"
             },
             "line": {
              "color": "white"
             }
            },
            "header": {
             "fill": {
              "color": "#C8D4E3"
             },
             "line": {
              "color": "white"
             }
            },
            "type": "table"
           }
          ]
         },
         "layout": {
          "annotationdefaults": {
           "arrowcolor": "#2a3f5f",
           "arrowhead": 0,
           "arrowwidth": 1
          },
          "autotypenumbers": "strict",
          "coloraxis": {
           "colorbar": {
            "outlinewidth": 0,
            "ticks": ""
           }
          },
          "colorscale": {
           "diverging": [
            [
             0,
             "#8e0152"
            ],
            [
             0.1,
             "#c51b7d"
            ],
            [
             0.2,
             "#de77ae"
            ],
            [
             0.3,
             "#f1b6da"
            ],
            [
             0.4,
             "#fde0ef"
            ],
            [
             0.5,
             "#f7f7f7"
            ],
            [
             0.6,
             "#e6f5d0"
            ],
            [
             0.7,
             "#b8e186"
            ],
            [
             0.8,
             "#7fbc41"
            ],
            [
             0.9,
             "#4d9221"
            ],
            [
             1,
             "#276419"
            ]
           ],
           "sequential": [
            [
             0,
             "#0d0887"
            ],
            [
             0.1111111111111111,
             "#46039f"
            ],
            [
             0.2222222222222222,
             "#7201a8"
            ],
            [
             0.3333333333333333,
             "#9c179e"
            ],
            [
             0.4444444444444444,
             "#bd3786"
            ],
            [
             0.5555555555555556,
             "#d8576b"
            ],
            [
             0.6666666666666666,
             "#ed7953"
            ],
            [
             0.7777777777777778,
             "#fb9f3a"
            ],
            [
             0.8888888888888888,
             "#fdca26"
            ],
            [
             1,
             "#f0f921"
            ]
           ],
           "sequentialminus": [
            [
             0,
             "#0d0887"
            ],
            [
             0.1111111111111111,
             "#46039f"
            ],
            [
             0.2222222222222222,
             "#7201a8"
            ],
            [
             0.3333333333333333,
             "#9c179e"
            ],
            [
             0.4444444444444444,
             "#bd3786"
            ],
            [
             0.5555555555555556,
             "#d8576b"
            ],
            [
             0.6666666666666666,
             "#ed7953"
            ],
            [
             0.7777777777777778,
             "#fb9f3a"
            ],
            [
             0.8888888888888888,
             "#fdca26"
            ],
            [
             1,
             "#f0f921"
            ]
           ]
          },
          "colorway": [
           "#636efa",
           "#EF553B",
           "#00cc96",
           "#ab63fa",
           "#FFA15A",
           "#19d3f3",
           "#FF6692",
           "#B6E880",
           "#FF97FF",
           "#FECB52"
          ],
          "font": {
           "color": "#2a3f5f"
          },
          "geo": {
           "bgcolor": "white",
           "lakecolor": "white",
           "landcolor": "#E5ECF6",
           "showlakes": true,
           "showland": true,
           "subunitcolor": "white"
          },
          "hoverlabel": {
           "align": "left"
          },
          "hovermode": "closest",
          "mapbox": {
           "style": "light"
          },
          "paper_bgcolor": "white",
          "plot_bgcolor": "#E5ECF6",
          "polar": {
           "angularaxis": {
            "gridcolor": "white",
            "linecolor": "white",
            "ticks": ""
           },
           "bgcolor": "#E5ECF6",
           "radialaxis": {
            "gridcolor": "white",
            "linecolor": "white",
            "ticks": ""
           }
          },
          "scene": {
           "xaxis": {
            "backgroundcolor": "#E5ECF6",
            "gridcolor": "white",
            "gridwidth": 2,
            "linecolor": "white",
            "showbackground": true,
            "ticks": "",
            "zerolinecolor": "white"
           },
           "yaxis": {
            "backgroundcolor": "#E5ECF6",
            "gridcolor": "white",
            "gridwidth": 2,
            "linecolor": "white",
            "showbackground": true,
            "ticks": "",
            "zerolinecolor": "white"
           },
           "zaxis": {
            "backgroundcolor": "#E5ECF6",
            "gridcolor": "white",
            "gridwidth": 2,
            "linecolor": "white",
            "showbackground": true,
            "ticks": "",
            "zerolinecolor": "white"
           }
          },
          "shapedefaults": {
           "line": {
            "color": "#2a3f5f"
           }
          },
          "ternary": {
           "aaxis": {
            "gridcolor": "white",
            "linecolor": "white",
            "ticks": ""
           },
           "baxis": {
            "gridcolor": "white",
            "linecolor": "white",
            "ticks": ""
           },
           "bgcolor": "#E5ECF6",
           "caxis": {
            "gridcolor": "white",
            "linecolor": "white",
            "ticks": ""
           }
          },
          "title": {
           "x": 0.05
          },
          "xaxis": {
           "automargin": true,
           "gridcolor": "white",
           "linecolor": "white",
           "ticks": "",
           "title": {
            "standoff": 15
           },
           "zerolinecolor": "white",
           "zerolinewidth": 2
          },
          "yaxis": {
           "automargin": true,
           "gridcolor": "white",
           "linecolor": "white",
           "ticks": "",
           "title": {
            "standoff": 15
           },
           "zerolinecolor": "white",
           "zerolinewidth": 2
          }
         }
        },
        "title": {
         "text": "Sentiment Distribution by Post Type"
        },
        "xaxis": {
         "anchor": "y",
         "domain": [
          0,
          1
         ],
         "title": {
          "text": "Post Type"
         }
        },
        "yaxis": {
         "anchor": "x",
         "domain": [
          0,
          1
         ],
         "title": {
          "text": "Number of Posts"
         }
        }
       }
      }
     },
     "metadata": {},
     "output_type": "display_data"
    }
   ],
   "source": [
    "# Visualization 4: Interactive Plotly visualization - Post type distribution\n",
    "type_sentiment = X_balanced.groupby(['type', 'sentiment_label']).size().reset_index(name='count')\n",
    "\n",
    "fig = px.bar(type_sentiment, x='type', y='count', color='sentiment_label',\n",
    "             title='Sentiment Distribution by Post Type',\n",
    "             labels={'count': 'Number of Posts', 'type': 'Post Type', 'sentiment_label': 'Sentiment'},\n",
    "             color_discrete_map={'Negative': '#FF6B6B', 'Neutral': '#4ECDC4', 'Positive': '#45B7D1'},\n",
    "             barmode='group')\n",
    "\n",
    "fig.update_layout(height=500, showlegend=True)\n",
    "fig.show()\n"
   ]
  },
  {
   "cell_type": "code",
   "execution_count": 40,
   "metadata": {},
   "outputs": [
    {
     "data": {
      "image/png": "[encoded data removed]",
      "text/plain": [
       "<Figure size 1400x1200 with 2 Axes>"
      ]
     },
     "metadata": {},
     "output_type": "display_data"
    }
   ],
   "source": [
    "# Visualization 5: Correlation heatmap of top words\n",
    "top_30_words = term_doc_matrix.drop('sentiment_label', axis=1).sum().sort_values(ascending=False).head(30).index\n",
    "correlation_matrix = term_doc_matrix[top_30_words].corr()\n",
    "\n",
    "plt.figure(figsize=(14, 12))\n",
    "sns.heatmap(correlation_matrix, annot=False, cmap='coolwarm', center=0, \n",
    "            square=True, linewidths=0.5, cbar_kws={\"shrink\": 0.8})\n",
    "plt.title('Correlation Heatmap of Top 30 Words', fontsize=16, fontweight='bold')\n",
    "plt.tight_layout()\n",
    "plt.show()\n"
   ]
  },
  {
   "cell_type": "code",
   "execution_count": 41,
   "metadata": {},
   "outputs": [
    {
     "data": {
      "application/vnd.plotly.v1+json": {
       "config": {
        "plotlyServerURL": "https://plot.ly"
       },
       "data": [
        {
         "name": "Negative",
         "opacity": 0.7,
         "type": "histogram",
         "x": {
          "bdata": "cwFgANMAOgEkAGAATgCsAAwCLgBJAGkAegA6AN4CXAArAGYA6wBEAFwCNANAAQ4AWgAuAEoAWwDsB20BKgArAEYAXgApADMAMwA2ANkAHACnATkATgDHAGEASABhADwApwAPAR8AIAC1ABwASwBDAWUA6AJ/ACUAEABvAFIAXwANANcAQwC4AMoAjgBgABQABABDAGoBjwALAKgB6gBDAA4ArAA+AGQBYwD2AJ8AMQEpAlIANgDLAEAAPgD/AWcAJAAWAEsAOwFrAC4AZgEZAMwAnAAXACAATgD3AFkAPABEAA0AMgBuAFAAoAB/ACsAJACzAH8AHgBBABsALwBeAD8DQwAeABoAPQCrAEcAnwAVAaAAHAAvAWAANwEtAEgApgANAE4ACwCwAAoAYQC+AI4AGgAnARUAXAAvAMMAJAAlAFgAvwDlADQB3ABCABcAaQFqADwATgBVACQAWwAqAGUABQGeAAUAlAAeATAAdgCNAGAAPwWyAEwAfQCGAAsApwAiAHEAJABXACEANQAQAKQAcAAKADIAMQIIABMA8ABVAG8AfQAWARMBMABYAHgAvQBjACIAqwAMAC0A9AA4ADwAfQCKADgACQCkACoAeAAPASMAmACQAZkAWAGDAGwAiAA6AYYAbgGnAckBVQFUACUAWACOAEYANABCABQASgAWADUARwBMAI8ALAAmAA0BRgFJABgAtwA4ADcAoACOAGYDXQAfAVIBoAAeAGEAfwC6AJ0AdAFpAEsBbAABAScAIAAxARoATwAtANMBSwAbABkAOQBiABkA",
          "dtype": "i2"
         },
         "xaxis": "x",
         "yaxis": "y"
        },
        {
         "name": "Neutral",
         "opacity": 0.7,
         "type": "histogram",
         "x": {
          "bdata": "hAEAAlkAHQBVADIAEwAHAMYALwAGANoAIQAxAC0AMQE5AA0ApQBqAGsBUQmxAIgAiQAUAJwBgQBHAxIACwAzAAMAKABGADAAmAEWAOYAGAELAC8ACwBEAAUAIgCQAAsAKgDPALEKYAA9ADMBMQAQABQADgAJABYAFgAWACMB+gKhAKMAKAAPABABQABAAHEAUQCWAAYAgwBJAGgA1gDCAHIA0gARACAALACmABIAWgBEAD8BFwAnAOEARgA/ACEAKwBJAH8AVwAFASkAQQCXAHMAHgAEAEQAkwAFAAQANwABAFgALQArALoAeQAJAM8ABgAWAAsAPAAXAAgHHACAAC8AOABoAC8A3QCSAGEApwKKAFIACQALACAARwBOACUAFQAGACAAYQAxAFUA+QCNAB4AYAApAC0AVQBEACwA2gBUAdgAnAFjAxgAXACqANgAiQA8AAQApQDWABIASwAbADUAjwIbABcB9gChACwAEwBKACoADwDIAEQAGQB4AEEAiwCIALYBCgAEABsAHAAxAFgASAAnAC8AVAAxAxoAKQAYAHIAZQD/AGkAKgCeAEQAUQAbABUAIQBUAB0AfABKACgBKACAACQAgQA6ABEAlAGbAJICfQBGAGcA0AJ8AFwAKQAkAI8ABABqAGQAWQARAHUA2wCsADAAGwCpBA0AdwBVAF8B7QJ4AZYALgAVAAwAEgAdAAEBKwAjAHQAVAAnACgAQABHAIYCMgB9AEIAKgCaACwAJwCoAPIAPgCSACcADQCGABwAHADiABcAFQAhACAAIwAiAMUA",
          "dtype": "i2"
         },
         "xaxis": "x",
         "yaxis": "y"
        },
        {
         "name": "Positive",
         "opacity": 0.7,
         "type": "histogram",
         "x": {
          "bdata": "PABNAC8ANgA/AGsASAQyAFoASgA2AUYAKwQRAgcAfAESACMAXwCmAAkBjQBdABcA8gAXAAQABwC9ABoBLgA6AWMAEwBaADkAQAC/AB8BNgMrAL8AvwCgAFwANwBRAEMAzwCEALoAMACRADQAFgChAEEAQwAbAAsAWgCTABEAPwBCAC0ANwBSAKIAGwAFAHAApwBnADoAqAA5AC4A6AAkAB0AQABvAAkDQQAbAC4BMwBkAFsAVADBAC4ANwFBABgARQBzABEATAABAowJLABmAZQAUgApAEEA",
          "dtype": "i2"
         },
         "xaxis": "x",
         "yaxis": "y"
        },
        {
         "name": "Negative",
         "opacity": 0.7,
         "showlegend": false,
         "type": "histogram",
         "x": {
          "bdata": "OAAPACUANgAIABIADgAjAF0ACQAKABIAFQAKAIgAEAAJABIAJgANAHAAjQA1AAIADgAIAAwAEgBfAT8ABgAJAA0AEAAIAAoACQAJABgABQBOAAwAEAAnABIADQAUAAwAHwAvAAYABQAfAAYADwA7ABMAkgAVAAcAAwASABEADwADACcADgAhACQAGAARAAEAAQAMAEQAGQACAEkAKgANAAMAHQAMAEUAEAAtAB0AOQBiAA8ACQAmAAwADABdABUABgAFABAAMQATAAYANgAFACgAHwAEAAYAEAAqABEADQANAAMACwAWABAAIAAYAAcABgAgABkABgANAAYACQASAIgADAAEAAYACwAeAAsAIAAyAB4ABgA5ABEAOAAIAA4AHQACAAwAAgAfAAIAFAAhABkABgA0AAQAEgAJACgACAAIAA4AIgAlADoALQANAAUARwASAAsADwAQAAUAEgAHABQAMAAaAAEAHAAwAAoAGAAYABAA6gAcAAoAFgAZAAIAIQAGABAACAAPAAcACwADACAAEAACAAgAZAABAAQAKAARABUAFwAzAC0ABgAPABcAHwATAAcAIQACAAkALgALAAsAGAAaAAoAAQAcAAUAGQAxAAgAGwBNABYAPwAbABMAFQA0ABwAQABGAFAAQgAQAAcAEQAZAA4ACQALAAQAEAAEAAsACwAQABYACgAFAC0AQgAOAAUAHwAMAAoAHgAYAJAADgA5AEYAGQAGABIAFwAhAB4ARgATADsAEwAuAAcABAA0AAYADgAIAE8ADQAEAAUACwASAAUA",
          "dtype": "i2"
         },
         "xaxis": "x2",
         "yaxis": "y2"
        },
        {
         "name": "Neutral",
         "opacity": 0.7,
         "showlegend": false,
         "type": "histogram",
         "x": {
          "bdata": "RwBWAAwABgAQAAUABQACACYACAACACUABwAJAAgALQALAAMAGwATAEIAlAEeABYAGwAFAFIAGACHAAMABAAKAAEAAwALAAcASgAFACYALgACAAoAAwAJAAEABgARAAIACAAlAOMBEAANADMABgADAAUAAgACAAQABAAEADoAZgAhACEACgAEAC0ADAAOABgAEAAbAAEAGAALABQAJwAkABcAKwACAAUACAAcAAMAEgAPABUABAAIACsADwAMAAcABgAOABgAEAAyAAkADgAZABgABgABAA4ADQABAAEACAABABIACAAGACEAEgABACYAAQAEAAIACwAEABYBBgAdAAoACQASAAoAJgAUABIAegAYABAAAgACAAcADQAPAAYABQABAAEADwAIAA4AMgAaAAUACgAIAAUAEQAMAAgAJwA3ACkAUQCfAAUAEQAiACAAGgAOAAEAHQAiAAUADAAEAAoAcgAFADQAKQAcAAgAAwALAAkAAgAjAA0ABgAYAAwAGgAWAFYAAwABAAEABgAHABMADgAHAAgACAB/AAYABgAEABEAFAAvABUACgAcAA4AEQAGAAIABwAPAAUADAAOADQABgAbAAcAFgALAAQASwAgAHIADgAMABUAgAAYAAkABwAGABkAAQAXABIAEAACABQAJwAaAAkABQDmAAQAFwARADoAeQBBABoACgAEAAMABAAFAC4ACQAGABcAEQAIAAcADAAOAGwACQAcAAgACQAQAAcABwAbACcADAAXAAYAAwAUAAUABgAqAAQABAAGAAkABgAGACMA",
          "dtype": "i2"
         },
         "xaxis": "x2",
         "yaxis": "y2"
        },
        {
         "name": "Positive",
         "opacity": 0.7,
         "showlegend": false,
         "type": "histogram",
         "x": {
          "bdata": "CgAMAAoADAANABQAoQALAAsADAA5AAoAnwBSAAEARwAEAAcAEQAeADYAGwAQAAQANAAEAAEAAgAfADcACwA6ABQABQAPAAgACwAiADEAgAAJACAAHgAbAA8ADAAQAAwAKQAZAB8ACAAYAAkAAwAeAA8ADAAFAAIADwAaAAMACwALAAgADAAPAB8ABgABABUAIQAWAAoAIAAJAAkALAAFAAUACAAXAIQADgAGADwADAAVABIADQAlAAUAOwAOAAUACwAUAAIADwBYAEoBCQA/AB0ADgAIAAoA",
          "dtype": "i2"
         },
         "xaxis": "x2",
         "yaxis": "y2"
        }
       ],
       "layout": {
        "annotations": [
         {
          "font": {
           "size": 16
          },
          "showarrow": false,
          "text": "Text Length Distribution",
          "x": 0.225,
          "xanchor": "center",
          "xref": "paper",
          "y": 1,
          "yanchor": "bottom",
          "yref": "paper"
         },
         {
          "font": {
           "size": 16
          },
          "showarrow": false,
          "text": "Word Count Distribution",
          "x": 0.775,
          "xanchor": "center",
          "xref": "paper",
          "y": 1,
          "yanchor": "bottom",
          "yref": "paper"
         }
        ],
        "barmode": "overlay",
        "height": 400,
        "template": {
         "data": {
          "bar": [
           {
            "error_x": {
             "color": "#2a3f5f"
            },
            "error_y": {
             "color": "#2a3f5f"
            },
            "marker": {
             "line": {
              "color": "#E5ECF6",
              "width": 0.5
             },
             "pattern": {
              "fillmode": "overlay",
              "size": 10,
              "solidity": 0.2
             }
            },
            "type": "bar"
           }
          ],
          "barpolar": [
           {
            "marker": {
             "line": {
              "color": "#E5ECF6",
              "width": 0.5
             },
             "pattern": {
              "fillmode": "overlay",
              "size": 10,
              "solidity": 0.2
             }
            },
            "type": "barpolar"
           }
          ],
          "carpet": [
           {
            "aaxis": {
             "endlinecolor": "#2a3f5f",
             "gridcolor": "white",
             "linecolor": "white",
             "minorgridcolor": "white",
             "startlinecolor": "#2a3f5f"
            },
            "baxis": {
             "endlinecolor": "#2a3f5f",
             "gridcolor": "white",
             "linecolor": "white",
             "minorgridcolor": "white",
             "startlinecolor": "#2a3f5f"
            },
            "type": "carpet"
           }
          ],
          "choropleth": [
           {
            "colorbar": {
             "outlinewidth": 0,
             "ticks": ""
            },
            "type": "choropleth"
           }
          ],
          "contour": [
           {
            "colorbar": {
             "outlinewidth": 0,
             "ticks": ""
            },
            "colorscale": [
             [
              0,
              "#0d0887"
             ],
             [
              0.1111111111111111,
              "#46039f"
             ],
             [
              0.2222222222222222,
              "#7201a8"
             ],
             [
              0.3333333333333333,
              "#9c179e"
             ],
             [
              0.4444444444444444,
              "#bd3786"
             ],
             [
              0.5555555555555556,
              "#d8576b"
             ],
             [
              0.6666666666666666,
              "#ed7953"
             ],
             [
              0.7777777777777778,
              "#fb9f3a"
             ],
             [
              0.8888888888888888,
              "#fdca26"
             ],
             [
              1,
              "#f0f921"
             ]
            ],
            "type": "contour"
           }
          ],
          "contourcarpet": [
           {
            "colorbar": {
             "outlinewidth": 0,
             "ticks": ""
            },
            "type": "contourcarpet"
           }
          ],
          "heatmap": [
           {
            "colorbar": {
             "outlinewidth": 0,
             "ticks": ""
            },
            "colorscale": [
             [
              0,
              "#0d0887"
             ],
             [
              0.1111111111111111,
              "#46039f"
             ],
             [
              0.2222222222222222,
              "#7201a8"
             ],
             [
              0.3333333333333333,
              "#9c179e"
             ],
             [
              0.4444444444444444,
              "#bd3786"
             ],
             [
              0.5555555555555556,
              "#d8576b"
             ],
             [
              0.6666666666666666,
              "#ed7953"
             ],
             [
              0.7777777777777778,
              "#fb9f3a"
             ],
             [
              0.8888888888888888,
              "#fdca26"
             ],
             [
              1,
              "#f0f921"
             ]
            ],
            "type": "heatmap"
           }
          ],
          "histogram": [
           {
            "marker": {
             "pattern": {
              "fillmode": "overlay",
              "size": 10,
              "solidity": 0.2
             }
            },
            "type": "histogram"
           }
          ],
          "histogram2d": [
           {
            "colorbar": {
             "outlinewidth": 0,
             "ticks": ""
            },
            "colorscale": [
             [
              0,
              "#0d0887"
             ],
             [
              0.1111111111111111,
              "#46039f"
             ],
             [
              0.2222222222222222,
              "#7201a8"
             ],
             [
              0.3333333333333333,
              "#9c179e"
             ],
             [
              0.4444444444444444,
              "#bd3786"
             ],
             [
              0.5555555555555556,
              "#d8576b"
             ],
             [
              0.6666666666666666,
              "#ed7953"
             ],
             [
              0.7777777777777778,
              "#fb9f3a"
             ],
             [
              0.8888888888888888,
              "#fdca26"
             ],
             [
              1,
              "#f0f921"
             ]
            ],
            "type": "histogram2d"
           }
          ],
          "histogram2dcontour": [
           {
            "colorbar": {
             "outlinewidth": 0,
             "ticks": ""
            },
            "colorscale": [
             [
              0,
              "#0d0887"
             ],
             [
              0.1111111111111111,
              "#46039f"
             ],
             [
              0.2222222222222222,
              "#7201a8"
             ],
             [
              0.3333333333333333,
              "#9c179e"
             ],
             [
              0.4444444444444444,
              "#bd3786"
             ],
             [
              0.5555555555555556,
              "#d8576b"
             ],
             [
              0.6666666666666666,
              "#ed7953"
             ],
             [
              0.7777777777777778,
              "#fb9f3a"
             ],
             [
              0.8888888888888888,
              "#fdca26"
             ],
             [
              1,
              "#f0f921"
             ]
            ],
            "type": "histogram2dcontour"
           }
          ],
          "mesh3d": [
           {
            "colorbar": {
             "outlinewidth": 0,
             "ticks": ""
            },
            "type": "mesh3d"
           }
          ],
          "parcoords": [
           {
            "line": {
             "colorbar": {
              "outlinewidth": 0,
              "ticks": ""
             }
            },
            "type": "parcoords"
           }
          ],
          "pie": [
           {
            "automargin": true,
            "type": "pie"
           }
          ],
          "scatter": [
           {
            "fillpattern": {
             "fillmode": "overlay",
             "size": 10,
             "solidity": 0.2
            },
            "type": "scatter"
           }
          ],
          "scatter3d": [
           {
            "line": {
             "colorbar": {
              "outlinewidth": 0,
              "ticks": ""
             }
            },
            "marker": {
             "colorbar": {
              "outlinewidth": 0,
              "ticks": ""
             }
            },
            "type": "scatter3d"
           }
          ],
          "scattercarpet": [
           {
            "marker": {
             "colorbar": {
              "outlinewidth": 0,
              "ticks": ""
             }
            },
            "type": "scattercarpet"
           }
          ],
          "scattergeo": [
           {
            "marker": {
             "colorbar": {
              "outlinewidth": 0,
              "ticks": ""
             }
            },
            "type": "scattergeo"
           }
          ],
          "scattergl": [
           {
            "marker": {
             "colorbar": {
              "outlinewidth": 0,
              "ticks": ""
             }
            },
            "type": "scattergl"
           }
          ],
          "scattermap": [
           {
            "marker": {
             "colorbar": {
              "outlinewidth": 0,
              "ticks": ""
             }
            },
            "type": "scattermap"
           }
          ],
          "scattermapbox": [
           {
            "marker": {
             "colorbar": {
              "outlinewidth": 0,
              "ticks": ""
             }
            },
            "type": "scattermapbox"
           }
          ],
          "scatterpolar": [
           {
            "marker": {
             "colorbar": {
              "outlinewidth": 0,
              "ticks": ""
             }
            },
            "type": "scatterpolar"
           }
          ],
          "scatterpolargl": [
           {
            "marker": {
             "colorbar": {
              "outlinewidth": 0,
              "ticks": ""
             }
            },
            "type": "scatterpolargl"
           }
          ],
          "scatterternary": [
           {
            "marker": {
             "colorbar": {
              "outlinewidth": 0,
              "ticks": ""
             }
            },
            "type": "scatterternary"
           }
          ],
          "surface": [
           {
            "colorbar": {
             "outlinewidth": 0,
             "ticks": ""
            },
            "colorscale": [
             [
              0,
              "#0d0887"
             ],
             [
              0.1111111111111111,
              "#46039f"
             ],
             [
              0.2222222222222222,
              "#7201a8"
             ],
             [
              0.3333333333333333,
              "#9c179e"
             ],
             [
              0.4444444444444444,
              "#bd3786"
             ],
             [
              0.5555555555555556,
              "#d8576b"
             ],
             [
              0.6666666666666666,
              "#ed7953"
             ],
             [
              0.7777777777777778,
              "#fb9f3a"
             ],
             [
              0.8888888888888888,
              "#fdca26"
             ],
             [
              1,
              "#f0f921"
             ]
            ],
            "type": "surface"
           }
          ],
          "table": [
           {
            "cells": {
             "fill": {
              "color": "#EBF0F8"
             },
             "line": {
              "color": "white"
             }
            },
            "header": {
             "fill": {
              "color": "#C8D4E3"
             },
             "line": {
              "color": "white"
             }
            },
            "type": "table"
           }
          ]
         },
         "layout": {
          "annotationdefaults": {
           "arrowcolor": "#2a3f5f",
           "arrowhead": 0,
           "arrowwidth": 1
          },
          "autotypenumbers": "strict",
          "coloraxis": {
           "colorbar": {
            "outlinewidth": 0,
            "ticks": ""
           }
          },
          "colorscale": {
           "diverging": [
            [
             0,
             "#8e0152"
            ],
            [
             0.1,
             "#c51b7d"
            ],
            [
             0.2,
             "#de77ae"
            ],
            [
             0.3,
             "#f1b6da"
            ],
            [
             0.4,
             "#fde0ef"
            ],
            [
             0.5,
             "#f7f7f7"
            ],
            [
             0.6,
             "#e6f5d0"
            ],
            [
             0.7,
             "#b8e186"
            ],
            [
             0.8,
             "#7fbc41"
            ],
            [
             0.9,
             "#4d9221"
            ],
            [
             1,
             "#276419"
            ]
           ],
           "sequential": [
            [
             0,
             "#0d0887"
            ],
            [
             0.1111111111111111,
             "#46039f"
            ],
            [
             0.2222222222222222,
             "#7201a8"
            ],
            [
             0.3333333333333333,
             "#9c179e"
            ],
            [
             0.4444444444444444,
             "#bd3786"
            ],
            [
             0.5555555555555556,
             "#d8576b"
            ],
            [
             0.6666666666666666,
             "#ed7953"
            ],
            [
             0.7777777777777778,
             "#fb9f3a"
            ],
            [
             0.8888888888888888,
             "#fdca26"
            ],
            [
             1,
             "#f0f921"
            ]
           ],
           "sequentialminus": [
            [
             0,
             "#0d0887"
            ],
            [
             0.1111111111111111,
             "#46039f"
            ],
            [
             0.2222222222222222,
             "#7201a8"
            ],
            [
             0.3333333333333333,
             "#9c179e"
            ],
            [
             0.4444444444444444,
             "#bd3786"
            ],
            [
             0.5555555555555556,
             "#d8576b"
            ],
            [
             0.6666666666666666,
             "#ed7953"
            ],
            [
             0.7777777777777778,
             "#fb9f3a"
            ],
            [
             0.8888888888888888,
             "#fdca26"
            ],
            [
             1,
             "#f0f921"
            ]
           ]
          },
          "colorway": [
           "#636efa",
           "#EF553B",
           "#00cc96",
           "#ab63fa",
           "#FFA15A",
           "#19d3f3",
           "#FF6692",
           "#B6E880",
           "#FF97FF",
           "#FECB52"
          ],
          "font": {
           "color": "#2a3f5f"
          },
          "geo": {
           "bgcolor": "white",
           "lakecolor": "white",
           "landcolor": "#E5ECF6",
           "showlakes": true,
           "showland": true,
           "subunitcolor": "white"
          },
          "hoverlabel": {
           "align": "left"
          },
          "hovermode": "closest",
          "mapbox": {
           "style": "light"
          },
          "paper_bgcolor": "white",
          "plot_bgcolor": "#E5ECF6",
          "polar": {
           "angularaxis": {
            "gridcolor": "white",
            "linecolor": "white",
            "ticks": ""
           },
           "bgcolor": "#E5ECF6",
           "radialaxis": {
            "gridcolor": "white",
            "linecolor": "white",
            "ticks": ""
           }
          },
          "scene": {
           "xaxis": {
            "backgroundcolor": "#E5ECF6",
            "gridcolor": "white",
            "gridwidth": 2,
            "linecolor": "white",
            "showbackground": true,
            "ticks": "",
            "zerolinecolor": "white"
           },
           "yaxis": {
            "backgroundcolor": "#E5ECF6",
            "gridcolor": "white",
            "gridwidth": 2,
            "linecolor": "white",
            "showbackground": true,
            "ticks": "",
            "zerolinecolor": "white"
           },
           "zaxis": {
            "backgroundcolor": "#E5ECF6",
            "gridcolor": "white",
            "gridwidth": 2,
            "linecolor": "white",
            "showbackground": true,
            "ticks": "",
            "zerolinecolor": "white"
           }
          },
          "shapedefaults": {
           "line": {
            "color": "#2a3f5f"
           }
          },
          "ternary": {
           "aaxis": {
            "gridcolor": "white",
            "linecolor": "white",
            "ticks": ""
           },
           "baxis": {
            "gridcolor": "white",
            "linecolor": "white",
            "ticks": ""
           },
           "bgcolor": "#E5ECF6",
           "caxis": {
            "gridcolor": "white",
            "linecolor": "white",
            "ticks": ""
           }
          },
          "title": {
           "x": 0.05
          },
          "xaxis": {
           "automargin": true,
           "gridcolor": "white",
           "linecolor": "white",
           "ticks": "",
           "title": {
            "standoff": 15
           },
           "zerolinecolor": "white",
           "zerolinewidth": 2
          },
          "yaxis": {
           "automargin": true,
           "gridcolor": "white",
           "linecolor": "white",
           "ticks": "",
           "title": {
            "standoff": 15
           },
           "zerolinecolor": "white",
           "zerolinewidth": 2
          }
         }
        },
        "title": {
         "text": "Text Statistics by Sentiment"
        },
        "xaxis": {
         "anchor": "y",
         "domain": [
          0,
          0.45
         ],
         "title": {
          "text": "Text Length"
         }
        },
        "xaxis2": {
         "anchor": "y2",
         "domain": [
          0.55,
          1
         ],
         "title": {
          "text": "Word Count"
         }
        },
        "yaxis": {
         "anchor": "x",
         "domain": [
          0,
          1
         ],
         "title": {
          "text": "Frequency"
         }
        },
        "yaxis2": {
         "anchor": "x2",
         "domain": [
          0,
          1
         ],
         "title": {
          "text": "Frequency"
         }
        }
       }
      }
     },
     "metadata": {},
     "output_type": "display_data"
    }
   ],
   "source": [
    "# Visualization 6: Text length and word count distribution\n",
    "fig = make_subplots(rows=1, cols=2, subplot_titles=('Text Length Distribution', 'Word Count Distribution'))\n",
    "\n",
    "# Text length histogram\n",
    "for sentiment in ['Negative', 'Neutral', 'Positive']:\n",
    "    data = X_balanced[X_balanced['sentiment_label'] == sentiment]['text_length']\n",
    "    fig.add_trace(go.Histogram(x=data, name=sentiment, opacity=0.7), row=1, col=1)\n",
    "\n",
    "# Word count histogram\n",
    "for sentiment in ['Negative', 'Neutral', 'Positive']:\n",
    "    data = X_balanced[X_balanced['sentiment_label'] == sentiment]['word_count']\n",
    "    fig.add_trace(go.Histogram(x=data, name=sentiment, opacity=0.7, showlegend=False), row=1, col=2)\n",
    "\n",
    "fig.update_layout(height=400, title_text=\"Text Statistics by Sentiment\", barmode='overlay')\n",
    "fig.update_xaxes(title_text=\"Text Length\", row=1, col=1)\n",
    "fig.update_xaxes(title_text=\"Word Count\", row=1, col=2)\n",
    "fig.update_yaxes(title_text=\"Frequency\", row=1, col=1)\n",
    "fig.update_yaxes(title_text=\"Frequency\", row=1, col=2)\n",
    "fig.show()\n"
   ]
  },
  {
   "cell_type": "markdown",
   "metadata": {},
   "source": [
    "## 6. Summary of Phase 1\n",
    "\n",
    "### Key Findings:\n",
    "\n",
    "1. **Data Cleaning**: Successfully handled missing values and removed duplicates\n",
    "2. **Sentiment Distribution**: Analyzed the distribution of sentiments across the dataset\n",
    "3. **Feature Engineering**: Created meaningful features like text length, word count, and average word length\n",
    "4. **Text Processing**: Tokenized text and created document-term matrix\n",
    "5. **Visualizations**: Generated various visualizations to understand data patterns\n",
    "\n",
    "### Dataset Statistics:\n",
    "- Final cleaned dataset size\n",
    "- Sentiment distribution\n",
    "- Top frequent words per sentiment\n",
    "- Subreddit and post type patterns\n",
    "\n",
    "---\n",
    "\n",
    "**End of Phase 1**\n"
   ]
  },
  {
   "cell_type": "code",
   "execution_count": 42,
   "metadata": {},
   "outputs": [
    {
     "name": "stdout",
     "output_type": "stream",
     "text": [
      "============================================================\n",
      "PHASE 1 SUMMARY STATISTICS\n",
      "============================================================\n",
      "\n",
      "1. Dataset Size:\n",
      "   - Original dataset: 847 records\n",
      "   - After cleaning: 824 records\n",
      "   - Balanced dataset: 708 records\n",
      "\n",
      "2. Sentiment Distribution (Balanced):\n",
      "sentiment_label\n",
      "Negative    300\n",
      "Neutral     300\n",
      "Positive    108\n",
      "\n",
      "3. Text Statistics (Balanced Dataset):\n",
      "   - Average text length: 150.26 characters\n",
      "   - Average word count: 26.42 words\n",
      "   - Average word length: 4.78 characters\n",
      "\n",
      "4. Document-Term Matrix:\n",
      "   - Shape: (708, 101)\n",
      "   - Vocabulary size: 100 words\n",
      "\n",
      "5. Top 5 Most Frequent Words:\n",
      "   - the: 790 occurrences\n",
      "   - to: 495 occurrences\n",
      "   - and: 426 occurrences\n",
      "   - is: 343 occurrences\n",
      "   - it: 303 occurrences\n",
      "\n",
      "============================================================\n",
      "Phase 1 Completed Successfully!\n",
      "============================================================\n"
     ]
    }
   ],
   "source": [
    "# Final Phase 1 Summary Statistics\n",
    "print(\"=\" * 60)\n",
    "print(\"PHASE 1 SUMMARY STATISTICS\")\n",
    "print(\"=\" * 60)\n",
    "print(f\"\\n1. Dataset Size:\")\n",
    "print(f\"   - Original dataset: {len(df)} records\")\n",
    "print(f\"   - After cleaning: {len(X)} records\")\n",
    "print(f\"   - Balanced dataset: {len(X_balanced)} records\")\n",
    "\n",
    "print(f\"\\n2. Sentiment Distribution (Balanced):\")\n",
    "print(X_balanced['sentiment_label'].value_counts().to_string())\n",
    "\n",
    "print(f\"\\n3. Text Statistics (Balanced Dataset):\")\n",
    "print(f\"   - Average text length: {X_balanced['text_length'].mean():.2f} characters\")\n",
    "print(f\"   - Average word count: {X_balanced['word_count'].mean():.2f} words\")\n",
    "print(f\"   - Average word length: {X_balanced['avg_word_length'].mean():.2f} characters\")\n",
    "\n",
    "print(f\"\\n4. Document-Term Matrix:\")\n",
    "print(f\"   - Shape: {term_doc_matrix.shape}\")\n",
    "print(f\"   - Vocabulary size: {len(vocabulary)} words\")\n",
    "\n",
    "print(f\"\\n5. Top 5 Most Frequent Words:\")\n",
    "top_5_words = term_doc_matrix.drop('sentiment_label', axis=1).sum().sort_values(ascending=False).head(5)\n",
    "for word, freq in top_5_words.items():\n",
    "    print(f\"   - {word}: {int(freq)} occurrences\")\n",
    "\n",
    "print(\"\\n\" + \"=\" * 60)\n",
    "print(\"Phase 1 Completed Successfully!\")\n",
    "print(\"=\" * 60)\n"
   ]
  },
  {
   "cell_type": "markdown",
   "metadata": {},
   "source": [
    "# Phase 2"
   ]
  },
  {
   "cell_type": "code",
   "execution_count": 43,
   "metadata": {},
   "outputs": [],
   "source": [
    "### Begin Assignment Here"
   ]
  }
 ],
 "metadata": {
  "kernelspec": {
   "display_name": ".venv",
   "language": "python",
   "name": "python3"
  },
  "language_info": {
   "codemirror_mode": {
    "name": "ipython",
    "version": 3
   },
   "file_extension": ".py",
   "mimetype": "text/x-python",
   "name": "python",
   "nbconvert_exporter": "python",
   "pygments_lexer": "ipython3",
   "version": "3.13.4"
  }
 },
 "nbformat": 4,
 "nbformat_minor": 4
}
